{
 "cells": [
  {
   "cell_type": "markdown",
   "metadata": {},
   "source": [
    "# Querying JSON Databases"
   ]
  },
  {
   "cell_type": "markdown",
   "metadata": {},
   "source": [
    "This notebook demonstrates how to query hierarchical databases with our toy query language BQL.\n",
    "\n",
    "We start with loading a demo JSON dataset with data on departments and employees of the city of Chicago ([source](https://data.cityofchicago.org/Administration-Finance/Current-Employee-Names-Salaries-and-Position-Title/xzkq-xp2w)).  In general, we can treat any JSON document with a regular structure as a hierarchical database."
   ]
  },
  {
   "cell_type": "code",
   "execution_count": 1,
   "metadata": {
    "collapsed": false
   },
   "outputs": [
    {
     "data": {
      "text/plain": [
       "Dict{AbstractString,Any} with 1 entry:\n",
       "  \"departments\" => Any[Dict{AbstractString,Any}(\"name\"=>\"WATER MGMNT\",\"employee…"
      ]
     },
     "execution_count": 1,
     "metadata": {},
     "output_type": "execute_result"
    }
   ],
   "source": [
    "ENV[\"LINES\"] = 15\n",
    "include(\"../citydb_json.jl\")\n",
    "\n",
    "citydb"
   ]
  },
  {
   "cell_type": "markdown",
   "metadata": {},
   "source": [
    "This is the structure of the `citydb` database:\n",
    "```json\n",
    "    {\n",
    "        \"departments\": [\n",
    "            {\n",
    "                \"name\": ...,\n",
    "                \"employees\": [\n",
    "                    {\n",
    "                        \"name\": ...,\n",
    "                        \"surname\": ...,\n",
    "                        \"position\": ...,\n",
    "                        \"salary\": ...\n",
    "                    },\n",
    "                    ... ]\n",
    "            },\n",
    "            ... ]\n",
    "    }\n",
    "```\n",
    "\n",
    "The top-level **City** object has the following fields:\n",
    "\n",
    "* `departments`: an array of department objects.\n",
    "\n",
    "**Department** objects have the following fields:\n",
    "\n",
    "* `name`: the name of the department.\n",
    "* `employees`: an array of employee objects.\n",
    "\n",
    "**Employee** objects have the following fields:\n",
    "\n",
    "* `name`: employee's first name.\n",
    "* `surname`: employee's last name.\n",
    "* `position`: employee's title.\n",
    "* `salary`: annual salary of the employee."
   ]
  },
  {
   "cell_type": "markdown",
   "metadata": {},
   "source": [
    "Next, we import the BQL library."
   ]
  },
  {
   "cell_type": "code",
   "execution_count": 2,
   "metadata": {
    "collapsed": false
   },
   "outputs": [],
   "source": [
    "push!(LOAD_PATH, \"..\")\n",
    "\n",
    "using BQL"
   ]
  },
  {
   "cell_type": "markdown",
   "metadata": {},
   "source": [
    "The BQL query language is embedded in Julia, which means any BQL query is a regular Julia function which maps JSON input to JSON output.  We call such functions _JSON combinators_.\n",
    "\n",
    "Two trivial examples of JSON combinators are:\n",
    "* `Const(val)`, which maps all input to the same output value;\n",
    "* `This()`, which returns its input unchanged."
   ]
  },
  {
   "cell_type": "code",
   "execution_count": 3,
   "metadata": {
    "collapsed": false
   },
   "outputs": [
    {
     "data": {
      "text/plain": [
       "(nothing,42,42)"
      ]
     },
     "execution_count": 3,
     "metadata": {},
     "output_type": "execute_result"
    }
   ],
   "source": [
    "C = Const(42)\n",
    "C(nothing), C(42), C([1, 2, 3])"
   ]
  },
  {
   "cell_type": "code",
   "execution_count": 4,
   "metadata": {
    "collapsed": false
   },
   "outputs": [
    {
     "data": {
      "text/plain": [
       "(nothing,42,[1,2,3])"
      ]
     },
     "execution_count": 4,
     "metadata": {},
     "output_type": "execute_result"
    }
   ],
   "source": [
    "I = This()\n",
    "I(nothing), I(42), I([1, 2, 3])"
   ]
  },
  {
   "cell_type": "markdown",
   "metadata": {},
   "source": [
    "More impressive is combinator `Field(name)` that extracts a field value from a JSON object."
   ]
  },
  {
   "cell_type": "code",
   "execution_count": 5,
   "metadata": {
    "collapsed": false
   },
   "outputs": [
    {
     "data": {
      "text/plain": [
       "24"
      ]
     },
     "execution_count": 5,
     "metadata": {},
     "output_type": "execute_result"
    }
   ],
   "source": [
    "F = Field(:x)\n",
    "F(Dict(\"x\" => 24, \"y\" => 42))"
   ]
  },
  {
   "cell_type": "markdown",
   "metadata": {},
   "source": [
    "By composing two field extractors, we can build a query that produces **the names of all departments**."
   ]
  },
  {
   "cell_type": "code",
   "execution_count": 6,
   "metadata": {
    "collapsed": false
   },
   "outputs": [
    {
     "data": {
      "text/plain": [
       "35-element Array{Any,1}:\n",
       " \"WATER MGMNT\"      \n",
       " \"POLICE\"           \n",
       " \"GENERAL SERVICES\" \n",
       " \"CITY COUNCIL\"     \n",
       " \"STREETS & SAN\"    \n",
       " ⋮                  \n",
       " \"BOARD OF ETHICS\"  \n",
       " \"POLICE BOARD\"     \n",
       " \"BUDGET & MGMT\"    \n",
       " \"ADMIN HEARNG\"     \n",
       " \"LICENSE APPL COMM\""
      ]
     },
     "execution_count": 6,
     "metadata": {},
     "output_type": "execute_result"
    }
   ],
   "source": [
    "Departments = Field(:departments)\n",
    "Name = Field(:name)\n",
    "\n",
    "Dept_Names = Departments >> Name\n",
    "dept_names = Dept_Names(citydb)\n",
    "\n",
    "dept_names"
   ]
  },
  {
   "cell_type": "markdown",
   "metadata": {},
   "source": [
    "What does the `>>` operator do exactly?  Fundamentally, `(A >> B)` composes `A` and `B` by sending the output of `A` to the input of `B`.\n",
    "\n",
    "$$\n",
    "(A \\gg B):\\; x \\;\\overset{A}{\\longmapsto}\\; y \\;\\overset{B}{\\longmapsto}\\; z \\quad\n",
    "\\text{(where $y = A(x),\\, z = B(y)$)}\n",
    "$$\n",
    "\n",
    "However, if we directly apply this rule to evaluate the expression ``(Departments >> Name)(citydb)``, we will fail because `citydb['departments']['name']` does not exist.\n",
    "\n",
    "To make this work, we need to clarify the composition rule.  Namely, expression `(A >> B)(x)`, when `A(x)` is an array, applies `B` to _each_ element of the array.\n",
    "\n",
    "$$\n",
    "(A \\gg B):\\; x \\;\\overset{A}{\\longmapsto}\\; [y_1,\\, y_2,\\, \\ldots] \\;\\overset{B}{\\longmapsto}\\; [z_1,\\, z_2,\\, \\ldots] \\quad\n",
    "\\text{(when $A(x) = [y_1,\\, y_2\\, \\ldots],\\, B(y_k) = z_k$)}\n",
    "$$\n",
    "\n",
    "Moreover, when `B` itself produces array values, all `B` outputs are combined into one array, which becomes the output of `(A >> B)`.\n",
    "\n",
    "$$\n",
    "(A \\gg B):\\; x \\;\\overset{A}{\\longmapsto}\\; [y_1,\\, y_2,\\, \\ldots] \\;\\overset{B}{\\longmapsto}\\; [z_{11},\\, z_{12},\\, \\ldots\\, z_{21},\\, z_{22},\\, \\ldots] \\quad\n",
    "\\text{(when also $B(y_k)$ are arrays $[z_{k1},\\, z_{k2},\\, \\ldots]$)}\n",
    "$$\n",
    "\n",
    "The last feature is used when we list **the names of all employees**."
   ]
  },
  {
   "cell_type": "code",
   "execution_count": 7,
   "metadata": {
    "collapsed": false
   },
   "outputs": [
    {
     "data": {
      "text/plain": [
       "32181-element Array{Any,1}:\n",
       " \"ELVIA\"     \n",
       " \"VICENTE\"   \n",
       " \"MUHAMMAD\"  \n",
       " \"GIRLEY\"    \n",
       " \"DILAN\"     \n",
       " ⋮           \n",
       " \"NANCY\"     \n",
       " \"DARCI\"     \n",
       " \"THADDEUS\"  \n",
       " \"RACHENETTE\"\n",
       " \"MICHELLE\"  "
      ]
     },
     "execution_count": 7,
     "metadata": {},
     "output_type": "execute_result"
    }
   ],
   "source": [
    "Employees = Field(:employees)\n",
    "\n",
    "Empl_Names = Departments >> Employees >> Name\n",
    "empl_names = Empl_Names(citydb)\n",
    "\n",
    "empl_names"
   ]
  },
  {
   "cell_type": "markdown",
   "metadata": {},
   "source": [
    "Dual to `Field(name)`, combinator `Select(...)` *constructs* JSON objects.  Parameters of `Select(...)` are combinators that construct object fields.  Here is a trivial example."
   ]
  },
  {
   "cell_type": "code",
   "execution_count": 8,
   "metadata": {
    "collapsed": false
   },
   "outputs": [
    {
     "data": {
      "text/plain": [
       "Dict{AbstractString,Any} with 2 entries:\n",
       "  \"x\" => 42\n",
       "  \"y\" => 24"
      ]
     },
     "execution_count": 8,
     "metadata": {},
     "output_type": "execute_result"
    }
   ],
   "source": [
    "S = Select(:x => Const(42), :y => This())\n",
    "S(24)"
   ]
  },
  {
   "cell_type": "markdown",
   "metadata": {},
   "source": [
    "Let us use `Select(...)` to generate **the name and the number of employees for each department**."
   ]
  },
  {
   "cell_type": "code",
   "execution_count": 9,
   "metadata": {
    "collapsed": false
   },
   "outputs": [
    {
     "data": {
      "text/plain": [
       "35-element Array{Any,1}:\n",
       " Dict{AbstractString,Any}(\"name\"=>\"WATER MGMNT\",\"size\"=>1848)    \n",
       " Dict{AbstractString,Any}(\"name\"=>\"POLICE\",\"size\"=>13570)        \n",
       " Dict{AbstractString,Any}(\"name\"=>\"GENERAL SERVICES\",\"size\"=>924)\n",
       " Dict{AbstractString,Any}(\"name\"=>\"CITY COUNCIL\",\"size\"=>397)    \n",
       " Dict{AbstractString,Any}(\"name\"=>\"STREETS & SAN\",\"size\"=>2090)  \n",
       " ⋮                                                               \n",
       " Dict{AbstractString,Any}(\"name\"=>\"BOARD OF ETHICS\",\"size\"=>9)   \n",
       " Dict{AbstractString,Any}(\"name\"=>\"POLICE BOARD\",\"size\"=>2)      \n",
       " Dict{AbstractString,Any}(\"name\"=>\"BUDGET & MGMT\",\"size\"=>43)    \n",
       " Dict{AbstractString,Any}(\"name\"=>\"ADMIN HEARNG\",\"size\"=>39)     \n",
       " Dict{AbstractString,Any}(\"name\"=>\"LICENSE APPL COMM\",\"size\"=>1) "
      ]
     },
     "execution_count": 9,
     "metadata": {},
     "output_type": "execute_result"
    }
   ],
   "source": [
    "Depts_With_Size = Departments >> Select(:name => Name, :size => Count(Employees))\n",
    "Depts_With_Size(citydb)"
   ]
  },
  {
   "cell_type": "markdown",
   "metadata": {},
   "source": [
    "Here, combinator `Count(Employees)` returns the length of the `employees` array.  In general, `Count(F)` lets `F` process its input expecting the output of `F` to be an array, then returns the length of the array.\n",
    "\n",
    "$$\n",
    "\\operatorname{Count}(F):\\; x \\;\\overset{F}{\\longmapsto}\\; [y_1,\\, y_2,\\, \\ldots\\, y_N] \\;\\overset{\\operatorname{length}}{\\longmapsto}\\; N\n",
    "$$\n",
    "\n",
    "(You may've expected `Employees >> Count()`, but that'd make operator `>>` non-associative).\n",
    "\n",
    "Array combinators such as `Count(...)` are called *aggregate combinators*.  The following aggregate combinators are defined in BQL: `Count()`, `Min()`, `Max()`, `First()`."
   ]
  },
  {
   "cell_type": "code",
   "execution_count": 10,
   "metadata": {
    "collapsed": false
   },
   "outputs": [
    {
     "data": {
      "text/plain": [
       "35"
      ]
     },
     "execution_count": 10,
     "metadata": {},
     "output_type": "execute_result"
    }
   ],
   "source": [
    "Num_Depts = Count(Departments)\n",
    "Num_Depts(citydb)"
   ]
  },
  {
   "cell_type": "code",
   "execution_count": 11,
   "metadata": {
    "collapsed": false
   },
   "outputs": [
    {
     "data": {
      "text/plain": [
       "260004"
      ]
     },
     "execution_count": 11,
     "metadata": {},
     "output_type": "execute_result"
    }
   ],
   "source": [
    "Salary = Field(:salary)\n",
    "\n",
    "Top_Salary = Max(Departments >> Employees >> Salary)\n",
    "Top_Salary(citydb)"
   ]
  },
  {
   "cell_type": "code",
   "execution_count": 12,
   "metadata": {
    "collapsed": false
   },
   "outputs": [
    {
     "data": {
      "text/plain": [
       "Dict{AbstractString,Any} with 4 entries:\n",
       "  \"name\"     => \"ELVIA\"\n",
       "  \"surname\"  => \"A\"\n",
       "  \"position\" => \"WATER RATE TAKER\"\n",
       "  \"salary\"   => 88968"
      ]
     },
     "execution_count": 12,
     "metadata": {},
     "output_type": "execute_result"
    }
   ],
   "source": [
    "One_Empl = First(Departments >> Employees)\n",
    "One_Empl(citydb)"
   ]
  },
  {
   "cell_type": "code",
   "execution_count": 13,
   "metadata": {
    "collapsed": false
   },
   "outputs": [
    {
     "data": {
      "text/plain": [
       "3-element Array{Any,1}:\n",
       " \"WATER MGMNT\"     \n",
       " \"POLICE\"          \n",
       " \"GENERAL SERVICES\""
      ]
     },
     "execution_count": 13,
     "metadata": {},
     "output_type": "execute_result"
    }
   ],
   "source": [
    "Three_Depts = First(Departments >> Name, Const(3))\n",
    "Three_Depts(citydb)"
   ]
  },
  {
   "cell_type": "code",
   "execution_count": 14,
   "metadata": {
    "collapsed": false
   },
   "outputs": [
    {
     "data": {
      "text/plain": [
       "17-element Array{Any,1}:\n",
       " \"WATER MGMNT\"     \n",
       " \"POLICE\"          \n",
       " \"GENERAL SERVICES\"\n",
       " \"CITY COUNCIL\"    \n",
       " \"STREETS & SAN\"   \n",
       " ⋮                 \n",
       " \"OEMC\"            \n",
       " \"TRANSPORTN\"      \n",
       " \"HEALTH\"          \n",
       " \"MAYOR'S OFFICE\"  \n",
       " \"LAW\"             "
      ]
     },
     "execution_count": 14,
     "metadata": {},
     "output_type": "execute_result"
    }
   ],
   "source": [
    "Half_Depts = First(Departments >> Name, Count(Departments)//2)\n",
    "Half_Depts(citydb)"
   ]
  },
  {
   "cell_type": "markdown",
   "metadata": {},
   "source": [
    "Combinator `Sieve(P)` applies predicate `P` to its input.  If the predicate condition is not satisfied, the input is dropped, otherwise it is returned unchanged.  Let us use `Sieve()` to find **the departments with more than 1000 employees**."
   ]
  },
  {
   "cell_type": "code",
   "execution_count": 15,
   "metadata": {
    "collapsed": false
   },
   "outputs": [
    {
     "data": {
      "text/plain": [
       "7-element Array{Any,1}:\n",
       " Dict{AbstractString,Any}(\"name\"=>\"WATER MGMNT\",\"size\"=>1848)  \n",
       " Dict{AbstractString,Any}(\"name\"=>\"POLICE\",\"size\"=>13570)      \n",
       " Dict{AbstractString,Any}(\"name\"=>\"STREETS & SAN\",\"size\"=>2090)\n",
       " Dict{AbstractString,Any}(\"name\"=>\"AVIATION\",\"size\"=>1344)     \n",
       " Dict{AbstractString,Any}(\"name\"=>\"FIRE\",\"size\"=>4875)         \n",
       " Dict{AbstractString,Any}(\"name\"=>\"OEMC\",\"size\"=>1135)         \n",
       " Dict{AbstractString,Any}(\"name\"=>\"TRANSPORTN\",\"size\"=>1200)   "
      ]
     },
     "execution_count": 15,
     "metadata": {},
     "output_type": "execute_result"
    }
   ],
   "source": [
    "Size = Field(:size)\n",
    "\n",
    "Large_Depts = Depts_With_Size >> Sieve(Size > 1000)\n",
    "Large_Depts(citydb)"
   ]
  },
  {
   "cell_type": "markdown",
   "metadata": {},
   "source": [
    "Here, combinator `Depts_With_Size`, which adds `size` field to each department object, is composed with combinator `Sieve(Size > 1000)`, which gathers the departments that satisfy condition `Size > 1000`.\n",
    "\n",
    "In the following example, we use `Sieve()` to find **the number of employees whose annual salary exceeds 200k**."
   ]
  },
  {
   "cell_type": "code",
   "execution_count": 16,
   "metadata": {
    "collapsed": false
   },
   "outputs": [
    {
     "data": {
      "text/plain": [
       "3"
      ]
     },
     "execution_count": 16,
     "metadata": {},
     "output_type": "execute_result"
    }
   ],
   "source": [
    "Num_Well_Paid_Empls =\n",
    "    Count(Departments >> Employees >> Sieve(Salary >= 200000))\n",
    "Num_Well_Paid_Empls(citydb)"
   ]
  },
  {
   "cell_type": "markdown",
   "metadata": {},
   "source": [
    "Now suppose we'd like to find **the number of employees with salary in a certain range**, but we don't know the range in advance.  In this case, we can construct a *parameterized query*."
   ]
  },
  {
   "cell_type": "code",
   "execution_count": 17,
   "metadata": {
    "collapsed": false
   },
   "outputs": [],
   "source": [
    "Min_Salary = Var(:min_salary)\n",
    "Max_Salary = Var(:max_salary)\n",
    "\n",
    "Num_Empls_By_Salary_Range =\n",
    "    Count(Departments >> Employees >> Sieve((Salary >= Min_Salary) & (Salary < Max_Salary)));"
   ]
  },
  {
   "cell_type": "markdown",
   "metadata": {},
   "source": [
    "To run the `Num_Empls_By_Salary_Range` query, we need to supply it with parameters `min_salary` and `max_salary`."
   ]
  },
  {
   "cell_type": "code",
   "execution_count": 18,
   "metadata": {
    "collapsed": false
   },
   "outputs": [
    {
     "data": {
      "text/plain": [
       "3"
      ]
     },
     "execution_count": 18,
     "metadata": {},
     "output_type": "execute_result"
    }
   ],
   "source": [
    "Num_Empls_By_Salary_Range(citydb, Dict(\"min_salary\" => 200000, \"max_salary\" => 1000000))"
   ]
  },
  {
   "cell_type": "code",
   "execution_count": 19,
   "metadata": {
    "collapsed": false
   },
   "outputs": [
    {
     "data": {
      "text/plain": [
       "3916"
      ]
     },
     "execution_count": 19,
     "metadata": {},
     "output_type": "execute_result"
    }
   ],
   "source": [
    "Num_Empls_By_Salary_Range(citydb, Dict(\"min_salary\" => 100000, \"max_salary\" => 200000))"
   ]
  },
  {
   "cell_type": "code",
   "execution_count": 20,
   "metadata": {
    "collapsed": false
   },
   "outputs": [
    {
     "data": {
      "text/plain": [
       "28262"
      ]
     },
     "execution_count": 20,
     "metadata": {},
     "output_type": "execute_result"
    }
   ],
   "source": [
    "Num_Empls_By_Salary_Range(citydb, Dict(\"min_salary\" => 0, \"max_salary\" => 100000))"
   ]
  },
  {
   "cell_type": "markdown",
   "metadata": {},
   "source": [
    "The query knows which parameters it needs."
   ]
  },
  {
   "cell_type": "code",
   "execution_count": 21,
   "metadata": {
    "collapsed": false
   },
   "outputs": [
    {
     "data": {
      "text/plain": [
       "Set(Any[\"min_salary\",\"max_salary\"])"
      ]
     },
     "execution_count": 21,
     "metadata": {},
     "output_type": "execute_result"
    }
   ],
   "source": [
    "vars(Num_Empls_By_Salary_Range)"
   ]
  },
  {
   "cell_type": "markdown",
   "metadata": {},
   "source": [
    "The last feature we discuss here is an ability to assign parameter values dynamically.\n",
    "\n",
    "Consider a query: find **the top salary for each department**.  It could be easily implemented using `Max()` aggregate."
   ]
  },
  {
   "cell_type": "code",
   "execution_count": 22,
   "metadata": {
    "collapsed": false
   },
   "outputs": [
    {
     "data": {
      "text/plain": [
       "35-element Array{Any,1}:\n",
       " Dict{AbstractString,Any}(\"name\"=>\"WATER MGMNT\",\"max_salary\"=>169512)     \n",
       " Dict{AbstractString,Any}(\"name\"=>\"POLICE\",\"max_salary\"=>260004)          \n",
       " Dict{AbstractString,Any}(\"name\"=>\"GENERAL SERVICES\",\"max_salary\"=>157092)\n",
       " Dict{AbstractString,Any}(\"name\"=>\"CITY COUNCIL\",\"max_salary\"=>160248)    \n",
       " Dict{AbstractString,Any}(\"name\"=>\"STREETS & SAN\",\"max_salary\"=>157092)   \n",
       " ⋮                                                                        \n",
       " Dict{AbstractString,Any}(\"name\"=>\"BOARD OF ETHICS\",\"max_salary\"=>131688) \n",
       " Dict{AbstractString,Any}(\"name\"=>\"POLICE BOARD\",\"max_salary\"=>97728)     \n",
       " Dict{AbstractString,Any}(\"name\"=>\"BUDGET & MGMT\",\"max_salary\"=>169992)   \n",
       " Dict{AbstractString,Any}(\"name\"=>\"ADMIN HEARNG\",\"max_salary\"=>156420)    \n",
       " Dict{AbstractString,Any}(\"name\"=>\"LICENSE APPL COMM\",\"max_salary\"=>69888)"
      ]
     },
     "execution_count": 22,
     "metadata": {},
     "output_type": "execute_result"
    }
   ],
   "source": [
    "Depts_With_Max_Salary =\n",
    "    Departments >> Select(:name => Name, :max_salary => Max(Employees >> Salary))\n",
    "Depts_With_Max_Salary(citydb)"
   ]
  },
  {
   "cell_type": "markdown",
   "metadata": {},
   "source": [
    "Now let us ask a slightly different question: find **the employees with the highest salary at their department**.  We may try to use the `Sieve()` combinator as follows."
   ]
  },
  {
   "cell_type": "code",
   "execution_count": 23,
   "metadata": {
    "collapsed": true
   },
   "outputs": [],
   "source": [
    "Highest_Paid_Empls_By_Dept =\n",
    "    Departments >> Employees >> Sieve(Salary == Max_Salary);"
   ]
  },
  {
   "cell_type": "markdown",
   "metadata": {},
   "source": [
    "But the filter condition `(Salary == Max_Salary)` is problematic since we cannot supply `max_salary` as a query parameter.  Instead it must be calculated dynamically for each department.  The `Given(...)` combinator does exactly that."
   ]
  },
  {
   "cell_type": "code",
   "execution_count": 24,
   "metadata": {
    "collapsed": false
   },
   "outputs": [
    {
     "data": {
      "text/plain": [
       "35-element Array{Any,1}:\n",
       " Dict{AbstractString,Any}(\"name\"=>\"THOMAS\",\"surname\"=>\"P\",\"position\"=>\"COMMISSIONER OF WATER MGMT\",\"salary\"=>169512)                \n",
       " Dict{AbstractString,Any}(\"name\"=>\"GARRY\",\"surname\"=>\"M\",\"position\"=>\"SUPERINTENDENT OF POLICE\",\"salary\"=>260004)                   \n",
       " Dict{AbstractString,Any}(\"name\"=>\"DAVID\",\"surname\"=>\"R\",\"position\"=>\"COMMISSIONER OF FLEET & FACILITY MANAGEMENT\",\"salary\"=>157092)\n",
       " Dict{AbstractString,Any}(\"name\"=>\"MARLA\",\"surname\"=>\"K\",\"position\"=>\"CHIEF ADMINISTRATIVE OFFICER\",\"salary\"=>160248)               \n",
       " Dict{AbstractString,Any}(\"name\"=>\"CHARLES\",\"surname\"=>\"W\",\"position\"=>\"COMMISSIONER OF STREETS AND SANITATION\",\"salary\"=>157092)   \n",
       " ⋮                                                                                                                                  \n",
       " Dict{AbstractString,Any}(\"name\"=>\"STEVEN\",\"surname\"=>\"B\",\"position\"=>\"EXECUTIVE DIR - BOARD OF ETHICS\",\"salary\"=>131688)           \n",
       " Dict{AbstractString,Any}(\"name\"=>\"MAX\",\"surname\"=>\"C\",\"position\"=>\"EXECUTIVE DIR - POLICE BOARD\",\"salary\"=>97728)                  \n",
       " Dict{AbstractString,Any}(\"name\"=>\"ALEXANDRA\",\"surname\"=>\"H\",\"position\"=>\"BUDGET DIR\",\"salary\"=>169992)                             \n",
       " Dict{AbstractString,Any}(\"name\"=>\"PATRICIA\",\"surname\"=>\"J\",\"position\"=>\"DIR OF ADMINISTRATIVE HEARINGS\",\"salary\"=>156420)          \n",
       " Dict{AbstractString,Any}(\"name\"=>\"MICHELLE\",\"surname\"=>\"G\",\"position\"=>\"STAFF ASST\",\"salary\"=>69888)                               "
      ]
     },
     "execution_count": 24,
     "metadata": {},
     "output_type": "execute_result"
    }
   ],
   "source": [
    "Highest_Paid_Empls_By_Dept =\n",
    "    Departments >>\n",
    "    Given(\n",
    "        Employees >> Sieve(Salary == Max_Salary),\n",
    "        :max_salary => Max(Employees >> Salary))\n",
    "    \n",
    "Highest_Paid_Empls_By_Dept(citydb)"
   ]
  },
  {
   "cell_type": "markdown",
   "metadata": {},
   "source": [
    "Notably, `Highest_Paid_Empls_By_Dept` requires no parameters despite the fact that its definition refers to `max_salary`."
   ]
  },
  {
   "cell_type": "code",
   "execution_count": 25,
   "metadata": {
    "collapsed": false
   },
   "outputs": [
    {
     "data": {
      "text/plain": [
       "0-element Array{Any,1}"
      ]
     },
     "execution_count": 25,
     "metadata": {},
     "output_type": "execute_result"
    }
   ],
   "source": [
    "vars(Highest_Paid_Empls_By_Dept)"
   ]
  }
 ],
 "metadata": {
  "kernelspec": {
   "display_name": "Julia 0.4.0-dev",
   "language": "julia",
   "name": "julia 0.4"
  },
  "language_info": {
   "file_extension": ".jl",
   "mimetype": "application/julia",
   "name": "julia",
   "version": "0.4.0"
  }
 },
 "nbformat": 4,
 "nbformat_minor": 0
}
