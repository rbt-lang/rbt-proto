{
 "cells": [
  {
   "cell_type": "markdown",
   "metadata": {},
   "source": [
    "# Querying hierarchical data with Rabbit\n",
    "We reproduce the queries from the section on querying hierarcical data using Rabbit syntax."
   ]
  },
  {
   "cell_type": "markdown",
   "metadata": {},
   "source": [
    "## The database\n",
    "We start with loading a sample hierarchical database.  Our sample database is derived from the dataset of all employees of the city of Chicago ([source](https://data.cityofchicago.org/Administration-Finance/Current-Employee-Names-Salaries-and-Position-Title/xzkq-xp2w))."
   ]
  },
  {
   "cell_type": "code",
   "execution_count": 1,
   "metadata": {
    "collapsed": false
   },
   "outputs": [
    {
     "data": {
      "text/plain": [
       "Department:\n",
       "  name: UTF8String {unique}\n",
       "  employee: Employee {plural}\n",
       "Employee:\n",
       "  surname: UTF8String\n",
       "  name: UTF8String\n",
       "  department: Department\n",
       "  position: UTF8String\n",
       "  salary: Int64"
      ]
     },
     "execution_count": 1,
     "metadata": {},
     "output_type": "execute_result"
    }
   ],
   "source": [
    "ENV[\"LINES\"] = 15\n",
    "push!(LOAD_PATH, \"..\")\n",
    "using RBT\n",
    "include(\"../citydb.jl\")\n",
    "\n",
    "setdb(citydb)"
   ]
  },
  {
   "cell_type": "markdown",
   "metadata": {},
   "source": [
    "We can execute a query using `fetch()` command:"
   ]
  },
  {
   "cell_type": "code",
   "execution_count": 2,
   "metadata": {
    "collapsed": false
   },
   "outputs": [
    {
     "data": {
      "text/plain": [
       "42"
      ]
     },
     "execution_count": 2,
     "metadata": {},
     "output_type": "execute_result"
    }
   ],
   "source": [
    "@query(6*(3+4))"
   ]
  },
  {
   "cell_type": "markdown",
   "metadata": {},
   "source": [
    "## Traversing the hierarchy\n",
    "*Find the names of all departments.*"
   ]
  },
  {
   "cell_type": "code",
   "execution_count": 3,
   "metadata": {
    "collapsed": false
   },
   "outputs": [
    {
     "data": {
      "text/plain": [
       "35-element Array{UTF8String,1}:\n",
       " \"WATER MGMNT\"      \n",
       " \"POLICE\"           \n",
       " \"GENERAL SERVICES\" \n",
       " \"CITY COUNCIL\"     \n",
       " \"STREETS & SAN\"    \n",
       " ⋮                  \n",
       " \"BOARD OF ETHICS\"  \n",
       " \"POLICE BOARD\"     \n",
       " \"BUDGET & MGMT\"    \n",
       " \"ADMIN HEARNG\"     \n",
       " \"LICENSE APPL COMM\""
      ]
     },
     "execution_count": 3,
     "metadata": {},
     "output_type": "execute_result"
    }
   ],
   "source": [
    "@query(department.name)"
   ]
  },
  {
   "cell_type": "markdown",
   "metadata": {},
   "source": [
    "*Find the names of all employees.*"
   ]
  },
  {
   "cell_type": "code",
   "execution_count": 4,
   "metadata": {
    "collapsed": false
   },
   "outputs": [
    {
     "data": {
      "text/plain": [
       "32181-element Array{UTF8String,1}:\n",
       " \"ELVIA\"     \n",
       " \"VICENTE\"   \n",
       " \"MUHAMMAD\"  \n",
       " \"GIRLEY\"    \n",
       " \"DILAN\"     \n",
       " ⋮           \n",
       " \"NANCY\"     \n",
       " \"DARCI\"     \n",
       " \"THADDEUS\"  \n",
       " \"RACHENETTE\"\n",
       " \"MICHELLE\"  "
      ]
     },
     "execution_count": 4,
     "metadata": {},
     "output_type": "execute_result"
    }
   ],
   "source": [
    "@query(department.employee.name)"
   ]
  },
  {
   "cell_type": "markdown",
   "metadata": {},
   "source": [
    "We are not restricted by the hierarchical structure of the database, so we can query employees directly."
   ]
  },
  {
   "cell_type": "code",
   "execution_count": 5,
   "metadata": {
    "collapsed": false
   },
   "outputs": [
    {
     "data": {
      "text/plain": [
       "32181-element Array{UTF8String,1}:\n",
       " \"ELVIA\"    \n",
       " \"JEFFERY\"  \n",
       " \"KARINA\"   \n",
       " \"KIMBERLEI\"\n",
       " \"VICENTE\"  \n",
       " ⋮          \n",
       " \"MICHAEL\"  \n",
       " \"PETER\"    \n",
       " \"MARK\"     \n",
       " \"CARLO\"    \n",
       " \"DARIUSZ\"  "
      ]
     },
     "execution_count": 5,
     "metadata": {},
     "output_type": "execute_result"
    }
   ],
   "source": [
    "@query(employee.name)"
   ]
  },
  {
   "cell_type": "markdown",
   "metadata": {},
   "source": [
    "If the traversal ends at an entity class, an array of records is generated."
   ]
  },
  {
   "cell_type": "code",
   "execution_count": 6,
   "metadata": {
    "collapsed": false
   },
   "outputs": [
    {
     "data": {
      "text/plain": [
       "35-element Array{Tuple{UTF8String},1}:\n",
       " (\"WATER MGMNT\",)      \n",
       " (\"POLICE\",)           \n",
       " (\"GENERAL SERVICES\",) \n",
       " (\"CITY COUNCIL\",)     \n",
       " (\"STREETS & SAN\",)    \n",
       " ⋮                     \n",
       " (\"BOARD OF ETHICS\",)  \n",
       " (\"POLICE BOARD\",)     \n",
       " (\"BUDGET & MGMT\",)    \n",
       " (\"ADMIN HEARNG\",)     \n",
       " (\"LICENSE APPL COMM\",)"
      ]
     },
     "execution_count": 6,
     "metadata": {},
     "output_type": "execute_result"
    }
   ],
   "source": [
    "@query(department)"
   ]
  },
  {
   "cell_type": "markdown",
   "metadata": {},
   "source": [
    "Which fields are selected depends on the path to the class."
   ]
  },
  {
   "cell_type": "code",
   "execution_count": 7,
   "metadata": {
    "collapsed": false
   },
   "outputs": [
    {
     "data": {
      "text/plain": [
       "32181-element Array{Tuple{UTF8String,UTF8String,UTF8String,UTF8String,Int64},1}:\n",
       " (\"ELVIA\",\"A\",\"WATER MGMNT\",\"WATER RATE TAKER\",88968)                     \n",
       " (\"JEFFERY\",\"A\",\"POLICE\",\"POLICE OFFICER\",80778)                          \n",
       " (\"KARINA\",\"A\",\"POLICE\",\"POLICE OFFICER\",80778)                           \n",
       " (\"KIMBERLEI\",\"A\",\"GENERAL SERVICES\",\"CHIEF CONTRACT EXPEDITER\",84780)    \n",
       " (\"VICENTE\",\"A\",\"WATER MGMNT\",\"CIVIL ENGINEER IV\",104736)                 \n",
       " ⋮                                                                        \n",
       " (\"MICHAEL\",\"Z\",\"GENERAL SERVICES\",\"FRM OF MACHINISTS - AUTOMOTIVE\",97448)\n",
       " (\"PETER\",\"Z\",\"POLICE\",\"POLICE OFFICER\",86520)                            \n",
       " (\"MARK\",\"Z\",\"POLICE\",\"POLICE OFFICER\",83616)                             \n",
       " (\"CARLO\",\"Z\",\"POLICE\",\"POLICE OFFICER\",86520)                            \n",
       " (\"DARIUSZ\",\"Z\",\"DoIT\",\"CHIEF DATA BASE ANALYST\",110352)                  "
      ]
     },
     "execution_count": 7,
     "metadata": {},
     "output_type": "execute_result"
    }
   ],
   "source": [
    "@query(employee)"
   ]
  },
  {
   "cell_type": "code",
   "execution_count": 8,
   "metadata": {
    "collapsed": false
   },
   "outputs": [
    {
     "data": {
      "text/plain": [
       "32181-element Array{Tuple{UTF8String,UTF8String},1}:\n",
       " (\"ELVIA\",\"A\")     \n",
       " (\"VICENTE\",\"A\")   \n",
       " (\"MUHAMMAD\",\"A\")  \n",
       " (\"GIRLEY\",\"A\")    \n",
       " (\"DILAN\",\"A\")     \n",
       " ⋮                 \n",
       " (\"NANCY\",\"T\")     \n",
       " (\"DARCI\",\"W\")     \n",
       " (\"THADDEUS\",\"W\")  \n",
       " (\"RACHENETTE\",\"W\")\n",
       " (\"MICHELLE\",\"G\")  "
      ]
     },
     "execution_count": 8,
     "metadata": {},
     "output_type": "execute_result"
    }
   ],
   "source": [
    "@query(department.employee)"
   ]
  },
  {
   "cell_type": "markdown",
   "metadata": {},
   "source": [
    "## Summarizing data\n",
    "*Find the number of departments.*"
   ]
  },
  {
   "cell_type": "code",
   "execution_count": 9,
   "metadata": {
    "collapsed": false
   },
   "outputs": [
    {
     "data": {
      "text/plain": [
       "35"
      ]
     },
     "execution_count": 9,
     "metadata": {},
     "output_type": "execute_result"
    }
   ],
   "source": [
    "@query(count(department))"
   ]
  },
  {
   "cell_type": "markdown",
   "metadata": {},
   "source": [
    "*Find the number of employees for each department.*"
   ]
  },
  {
   "cell_type": "code",
   "execution_count": 10,
   "metadata": {
    "collapsed": false
   },
   "outputs": [
    {
     "data": {
      "text/plain": [
       "35-element Array{Int64,1}:\n",
       "  1848\n",
       " 13570\n",
       "   924\n",
       "   397\n",
       "  2090\n",
       "     ⋮\n",
       "     9\n",
       "     2\n",
       "    43\n",
       "    39\n",
       "     1"
      ]
     },
     "execution_count": 10,
     "metadata": {},
     "output_type": "execute_result"
    }
   ],
   "source": [
    "@query(department.count(employee))"
   ]
  },
  {
   "cell_type": "markdown",
   "metadata": {},
   "source": [
    "*Find the total number of employees.*"
   ]
  },
  {
   "cell_type": "code",
   "execution_count": 11,
   "metadata": {
    "collapsed": false
   },
   "outputs": [
    {
     "data": {
      "text/plain": [
       "32181"
      ]
     },
     "execution_count": 11,
     "metadata": {},
     "output_type": "execute_result"
    }
   ],
   "source": [
    "@query(count(department.employee))"
   ]
  },
  {
   "cell_type": "markdown",
   "metadata": {},
   "source": [
    "Again, we can query `employee` directly."
   ]
  },
  {
   "cell_type": "code",
   "execution_count": 12,
   "metadata": {
    "collapsed": false
   },
   "outputs": [
    {
     "data": {
      "text/plain": [
       "32181"
      ]
     },
     "execution_count": 12,
     "metadata": {},
     "output_type": "execute_result"
    }
   ],
   "source": [
    "@query(count(employee))"
   ]
  },
  {
   "cell_type": "markdown",
   "metadata": {},
   "source": [
    "*Find the top salary among all employees.*"
   ]
  },
  {
   "cell_type": "code",
   "execution_count": 13,
   "metadata": {
    "collapsed": false
   },
   "outputs": [
    {
     "data": {
      "text/plain": [
       "Nullable(260004)"
      ]
     },
     "execution_count": 13,
     "metadata": {},
     "output_type": "execute_result"
    }
   ],
   "source": [
    "@query(max(employee.salary))"
   ]
  },
  {
   "cell_type": "markdown",
   "metadata": {},
   "source": [
    "*Find the maximum number of employees per department.*"
   ]
  },
  {
   "cell_type": "code",
   "execution_count": 14,
   "metadata": {
    "collapsed": false
   },
   "outputs": [
    {
     "data": {
      "text/plain": [
       "Nullable(13570)"
      ]
     },
     "execution_count": 14,
     "metadata": {},
     "output_type": "execute_result"
    }
   ],
   "source": [
    "@query(max(department.count(employee)))"
   ]
  },
  {
   "cell_type": "markdown",
   "metadata": {},
   "source": [
    "## Tabular output\n",
    "*For each department, find the number of employees.*"
   ]
  },
  {
   "cell_type": "code",
   "execution_count": 15,
   "metadata": {
    "collapsed": false
   },
   "outputs": [
    {
     "data": {
      "text/plain": [
       "35-element Array{Tuple{UTF8String,Int64},1}:\n",
       " (\"WATER MGMNT\",1848)    \n",
       " (\"POLICE\",13570)        \n",
       " (\"GENERAL SERVICES\",924)\n",
       " (\"CITY COUNCIL\",397)    \n",
       " (\"STREETS & SAN\",2090)  \n",
       " ⋮                       \n",
       " (\"BOARD OF ETHICS\",9)   \n",
       " (\"POLICE BOARD\",2)      \n",
       " (\"BUDGET & MGMT\",43)    \n",
       " (\"ADMIN HEARNG\",39)     \n",
       " (\"LICENSE APPL COMM\",1) "
      ]
     },
     "execution_count": 15,
     "metadata": {},
     "output_type": "execute_result"
    }
   ],
   "source": [
    "@query(department:select(name,count(employee)))"
   ]
  },
  {
   "cell_type": "markdown",
   "metadata": {},
   "source": [
    "The `:select` notation is a syntax sugar for regular function call where the first argument is placed before the function name (postfix notation)."
   ]
  },
  {
   "cell_type": "code",
   "execution_count": 16,
   "metadata": {
    "collapsed": false
   },
   "outputs": [
    {
     "data": {
      "text/plain": [
       "35-element Array{Tuple{UTF8String,Int64},1}:\n",
       " (\"WATER MGMNT\",1848)    \n",
       " (\"POLICE\",13570)        \n",
       " (\"GENERAL SERVICES\",924)\n",
       " (\"CITY COUNCIL\",397)    \n",
       " (\"STREETS & SAN\",2090)  \n",
       " ⋮                       \n",
       " (\"BOARD OF ETHICS\",9)   \n",
       " (\"POLICE BOARD\",2)      \n",
       " (\"BUDGET & MGMT\",43)    \n",
       " (\"ADMIN HEARNG\",39)     \n",
       " (\"LICENSE APPL COMM\",1) "
      ]
     },
     "execution_count": 16,
     "metadata": {},
     "output_type": "execute_result"
    }
   ],
   "source": [
    "@query(select(department,name,count(employee)))"
   ]
  },
  {
   "cell_type": "markdown",
   "metadata": {},
   "source": [
    "It is easy to add new columns to the output.  Let us add *the top salary per department.*"
   ]
  },
  {
   "cell_type": "code",
   "execution_count": 17,
   "metadata": {
    "collapsed": false
   },
   "outputs": [
    {
     "data": {
      "text/plain": [
       "35-element Array{Tuple{UTF8String,Int64,Nullable{Int64}},1}:\n",
       " (\"WATER MGMNT\",1848,Nullable(169512))    \n",
       " (\"POLICE\",13570,Nullable(260004))        \n",
       " (\"GENERAL SERVICES\",924,Nullable(157092))\n",
       " (\"CITY COUNCIL\",397,Nullable(160248))    \n",
       " (\"STREETS & SAN\",2090,Nullable(157092))  \n",
       " ⋮                                        \n",
       " (\"BOARD OF ETHICS\",9,Nullable(131688))   \n",
       " (\"POLICE BOARD\",2,Nullable(97728))       \n",
       " (\"BUDGET & MGMT\",43,Nullable(169992))    \n",
       " (\"ADMIN HEARNG\",39,Nullable(156420))     \n",
       " (\"LICENSE APPL COMM\",1,Nullable(69888))  "
      ]
     },
     "execution_count": 17,
     "metadata": {},
     "output_type": "execute_result"
    }
   ],
   "source": [
    "@query(\n",
    "    department\n",
    "    :select(\n",
    "        name,\n",
    "        count(employee),\n",
    "        max(employee.salary)))"
   ]
  },
  {
   "cell_type": "markdown",
   "metadata": {},
   "source": [
    "## Filtering data\n",
    "*Find the employees with salary greater than $200k.*"
   ]
  },
  {
   "cell_type": "code",
   "execution_count": 18,
   "metadata": {
    "collapsed": false
   },
   "outputs": [
    {
     "data": {
      "text/plain": [
       "3-element Array{Tuple{UTF8String,UTF8String,UTF8String,Int64},1}:\n",
       " (\"RAHM\",\"E\",\"MAYOR\",216210)                    \n",
       " (\"GARRY\",\"M\",\"SUPERINTENDENT OF POLICE\",260004)\n",
       " (\"JOSE\",\"S\",\"FIRE COMMISSIONER\",202728)        "
      ]
     },
     "execution_count": 18,
     "metadata": {},
     "output_type": "execute_result"
    }
   ],
   "source": [
    "@query(\n",
    "    employee\n",
    "    :filter(salary>200000)\n",
    "    :select(name,surname,position,salary))"
   ]
  },
  {
   "cell_type": "markdown",
   "metadata": {},
   "source": [
    "`:select()` and `:filter()` can be applied in any order."
   ]
  },
  {
   "cell_type": "code",
   "execution_count": 19,
   "metadata": {
    "collapsed": false
   },
   "outputs": [
    {
     "data": {
      "text/plain": [
       "3-element Array{Tuple{UTF8String,UTF8String,UTF8String,Int64},1}:\n",
       " (\"RAHM\",\"E\",\"MAYOR\",216210)                    \n",
       " (\"GARRY\",\"M\",\"SUPERINTENDENT OF POLICE\",260004)\n",
       " (\"JOSE\",\"S\",\"FIRE COMMISSIONER\",202728)        "
      ]
     },
     "execution_count": 19,
     "metadata": {},
     "output_type": "execute_result"
    }
   ],
   "source": [
    "@query(\n",
    "    employee\n",
    "    :select(name,surname,position,salary)\n",
    "    :filter(salary>200000))"
   ]
  },
  {
   "cell_type": "markdown",
   "metadata": {},
   "source": [
    "*Find the number of employees with salary in the range from \\$100k to \\$200k.*"
   ]
  },
  {
   "cell_type": "code",
   "execution_count": 20,
   "metadata": {
    "collapsed": false
   },
   "outputs": [
    {
     "data": {
      "text/plain": [
       "3916"
      ]
     },
     "execution_count": 20,
     "metadata": {},
     "output_type": "execute_result"
    }
   ],
   "source": [
    "@query(\n",
    "    employee\n",
    "    :filter((salary>100000)&(salary<=200000))\n",
    "    :count)"
   ]
  },
  {
   "cell_type": "markdown",
   "metadata": {},
   "source": [
    "*Find the departments with mode than 1000 employees.*"
   ]
  },
  {
   "cell_type": "code",
   "execution_count": 21,
   "metadata": {
    "collapsed": false
   },
   "outputs": [
    {
     "name": "stderr",
     "output_type": "stream",
     "text": [
      "\n",
      "WARNING: deprecated syntax \"filter(count(employee)>1000) .\" at In[21]:4.\n",
      "Use \"filter(count(employee)>1000).\" instead.\n"
     ]
    },
    {
     "data": {
      "text/plain": [
       "7-element Array{UTF8String,1}:\n",
       " \"WATER MGMNT\"  \n",
       " \"POLICE\"       \n",
       " \"STREETS & SAN\"\n",
       " \"AVIATION\"     \n",
       " \"FIRE\"         \n",
       " \"OEMC\"         \n",
       " \"TRANSPORTN\"   "
      ]
     },
     "execution_count": 21,
     "metadata": {},
     "output_type": "execute_result"
    }
   ],
   "source": [
    "@query(\n",
    "    department\n",
    "    :filter(count(employee)>1000)\n",
    "    .name)"
   ]
  },
  {
   "cell_type": "markdown",
   "metadata": {},
   "source": [
    "*Find the number of departments with more than 1000 employees.*"
   ]
  },
  {
   "cell_type": "code",
   "execution_count": 22,
   "metadata": {
    "collapsed": false
   },
   "outputs": [
    {
     "data": {
      "text/plain": [
       "7"
      ]
     },
     "execution_count": 22,
     "metadata": {},
     "output_type": "execute_result"
    }
   ],
   "source": [
    "@query(\n",
    "    count(\n",
    "        department\n",
    "        :filter(count(employee)>1000)))"
   ]
  },
  {
   "cell_type": "markdown",
   "metadata": {},
   "source": [
    "*For each department, find the number of employees with salary higher than $100k.*"
   ]
  },
  {
   "cell_type": "code",
   "execution_count": 23,
   "metadata": {
    "collapsed": false
   },
   "outputs": [
    {
     "data": {
      "text/plain": [
       "35-element Array{Tuple{UTF8String,Int64},1}:\n",
       " (\"WATER MGMNT\",179)    \n",
       " (\"POLICE\",1493)        \n",
       " (\"GENERAL SERVICES\",79)\n",
       " (\"CITY COUNCIL\",54)    \n",
       " (\"STREETS & SAN\",39)   \n",
       " ⋮                      \n",
       " (\"BOARD OF ETHICS\",2)  \n",
       " (\"POLICE BOARD\",0)     \n",
       " (\"BUDGET & MGMT\",12)   \n",
       " (\"ADMIN HEARNG\",3)     \n",
       " (\"LICENSE APPL COMM\",0)"
      ]
     },
     "execution_count": 23,
     "metadata": {},
     "output_type": "execute_result"
    }
   ],
   "source": [
    "@query(\n",
    "    department\n",
    "    :select(\n",
    "        name,\n",
    "        count(employee:filter(salary>100000))))"
   ]
  },
  {
   "cell_type": "markdown",
   "metadata": {},
   "source": [
    "*For each department with the number of employees less than 1000, find the employees with salary higher than $125k.*"
   ]
  },
  {
   "cell_type": "code",
   "execution_count": 24,
   "metadata": {
    "collapsed": false
   },
   "outputs": [
    {
     "data": {
      "text/plain": [
       "28-element Array{Tuple{UTF8String,Array{Tuple{UTF8String,UTF8String,UTF8String},1}},1}:\n",
       " (\"GENERAL SERVICES\",[(\"DAVID\",\"R\",\"COMMISSIONER OF FLEET & FACILITY MANAGEMENT\"),(\"PHILLIP\",\"S\",\"EQUIPMENT SERVICES COORD\")])                                                            \n",
       " (\"CITY COUNCIL\",[(\"JAMES\",\"C\",\"DEPUTY CHIEF ADMINISTRATIVE OFFICER\"),(\"MARLA\",\"K\",\"CHIEF ADMINISTRATIVE OFFICER\")])                                                                      \n",
       " (\"FAMILY & SUPPORT\",[(\"EVELYN\",\"D\",\"COMMISSIONER OF FAMILY AND SUPPORT SERVICES\"),(\"MARY\",\"G\",\"DEPUTY COMMISSIONER\"),(\"JENNIFER\",\"W\",\"FIRST DEPUTY COMMISSIONER\")])                      \n",
       " (\"IPRA\",[(\"SCOTT\",\"A\",\"CHIEF ADMINISTRATOR\"),(\"STEVEN\",\"H\",\"DEPUTY CHIEF ADMINISTRATOR\"),(\"STEVEN\",\"M\",\"FIRST DEPUTY CHIEF ADMINISTRATOR\"),(\"WILLIAM\",\"W\",\"DEPUTY CHIEF ADMINISTRATOR\")])\n",
       " (\"PUBLIC LIBRARY\",[(\"BRIAN\",\"B\",\"COMMISSIONER OF CHICAGO PUBLIC LIBRARY\"),(\"MICHELLE\",\"F\",\"DIRECTOR OF LIBRARY TECHNOLOGY\"),(\"ANDREA\",\"S\",\"FIRST DEPUTY COMMISSIONER\")])                 \n",
       " ⋮                                                                                                                                                                                        \n",
       " (\"BOARD OF ETHICS\",[(\"STEVEN\",\"B\",\"EXECUTIVE DIR - BOARD OF ETHICS\")])                                                                                                                   \n",
       " (\"POLICE BOARD\",Tuple{UTF8String,UTF8String,UTF8String}[])                                                                                                                               \n",
       " (\"BUDGET & MGMT\",[(\"ALEXANDRA\",\"H\",\"BUDGET DIR\"),(\"RESHMA\",\"S\",\"FIRST DEPUTY BUDGET DIR\")])                                                                                              \n",
       " (\"ADMIN HEARNG\",[(\"PATRICIA\",\"J\",\"DIR OF ADMINISTRATIVE HEARINGS\"),(\"STEVEN\",\"S\",\"DEPUTY DIR OF ADMINISTRATIVE ADJUDICATION\")])                                                          \n",
       " (\"LICENSE APPL COMM\",Tuple{UTF8String,UTF8String,UTF8String}[])                                                                                                                          "
      ]
     },
     "execution_count": 24,
     "metadata": {},
     "output_type": "execute_result"
    }
   ],
   "source": [
    "@query(\n",
    "    department\n",
    "    :filter(count(employee)<1000)\n",
    "    :select(\n",
    "        name,\n",
    "        employee\n",
    "            :filter(salary>125000)\n",
    "            :select(name,surname,position)))"
   ]
  },
  {
   "cell_type": "markdown",
   "metadata": {},
   "source": [
    "## Sorting\n",
    "\n",
    "We use the `:sort` combinator to sort an array of values.\n",
    "\n",
    "*List the names of departments in alphabetical order.*"
   ]
  },
  {
   "cell_type": "code",
   "execution_count": 25,
   "metadata": {
    "collapsed": false
   },
   "outputs": [
    {
     "data": {
      "text/plain": [
       "35-element Array{UTF8String,1}:\n",
       " \"ADMIN HEARNG\"     \n",
       " \"ANIMAL CONTRL\"    \n",
       " \"AVIATION\"         \n",
       " \"BOARD OF ELECTION\"\n",
       " \"BOARD OF ETHICS\"  \n",
       " ⋮                  \n",
       " \"PUBLIC LIBRARY\"   \n",
       " \"STREETS & SAN\"    \n",
       " \"TRANSPORTN\"       \n",
       " \"TREASURER\"        \n",
       " \"WATER MGMNT\"      "
      ]
     },
     "execution_count": 25,
     "metadata": {},
     "output_type": "execute_result"
    }
   ],
   "source": [
    "@query(department.name:sort)"
   ]
  },
  {
   "cell_type": "markdown",
   "metadata": {},
   "source": [
    "We can also specify the attribute by which the elements of the array are to be sorted.\n",
    "\n",
    "*Show the employees sorted by salary.*"
   ]
  },
  {
   "cell_type": "code",
   "execution_count": 26,
   "metadata": {
    "collapsed": false
   },
   "outputs": [
    {
     "data": {
      "text/plain": [
       "32181-element Array{Tuple{UTF8String,UTF8String,UTF8String,UTF8String,Int64},1}:\n",
       " (\"STEVEN\",\"K\",\"MAYOR'S OFFICE\",\"ADMINISTRATIVE SECRETARY\",1)  \n",
       " (\"BETTY\",\"A\",\"FAMILY & SUPPORT\",\"FOSTER GRANDPARENT\",2756)    \n",
       " (\"VICTOR\",\"A\",\"FAMILY & SUPPORT\",\"SENIOR COMPANION\",2756)     \n",
       " (\"RASHEEDAH\",\"A\",\"FAMILY & SUPPORT\",\"SENIOR COMPANION\",2756)  \n",
       " (\"MARY\",\"A\",\"FAMILY & SUPPORT\",\"FOSTER GRANDPARENT\",2756)     \n",
       " ⋮                                                             \n",
       " (\"CHARLES\",\"S\",\"FIRE\",\"FIRST DEPUTY FIRE COMMISSIONER\",197736)\n",
       " (\"ALFONZA\",\"W\",\"POLICE\",\"FIRST DEPUTY SUPERINTENDENT\",197736) \n",
       " (\"JOSE\",\"S\",\"FIRE\",\"FIRE COMMISSIONER\",202728)                \n",
       " (\"RAHM\",\"E\",\"MAYOR'S OFFICE\",\"MAYOR\",216210)                  \n",
       " (\"GARRY\",\"M\",\"POLICE\",\"SUPERINTENDENT OF POLICE\",260004)      "
      ]
     },
     "execution_count": 26,
     "metadata": {},
     "output_type": "execute_result"
    }
   ],
   "source": [
    "@query(employee:sort(salary))"
   ]
  },
  {
   "cell_type": "markdown",
   "metadata": {},
   "source": [
    "Use `:desc` indicator to reverse the order."
   ]
  },
  {
   "cell_type": "code",
   "execution_count": 27,
   "metadata": {
    "collapsed": false
   },
   "outputs": [
    {
     "data": {
      "text/plain": [
       "32181-element Array{Tuple{UTF8String,UTF8String,UTF8String,UTF8String,Int64},1}:\n",
       " (\"GARRY\",\"M\",\"POLICE\",\"SUPERINTENDENT OF POLICE\",260004)      \n",
       " (\"RAHM\",\"E\",\"MAYOR'S OFFICE\",\"MAYOR\",216210)                  \n",
       " (\"JOSE\",\"S\",\"FIRE\",\"FIRE COMMISSIONER\",202728)                \n",
       " (\"CHARLES\",\"S\",\"FIRE\",\"FIRST DEPUTY FIRE COMMISSIONER\",197736)\n",
       " (\"ALFONZA\",\"W\",\"POLICE\",\"FIRST DEPUTY SUPERINTENDENT\",197736) \n",
       " ⋮                                                             \n",
       " (\"SONG\",\"Y\",\"FAMILY & SUPPORT\",\"SENIOR COMPANION\",2756)       \n",
       " (\"AMANDA\",\"Y\",\"FAMILY & SUPPORT\",\"FOSTER GRANDPARENT\",2756)   \n",
       " (\"EUNICE\",\"Y\",\"FAMILY & SUPPORT\",\"SENIOR COMPANION\",2756)     \n",
       " (\"MING\",\"Y\",\"FAMILY & SUPPORT\",\"SENIOR COMPANION\",2756)       \n",
       " (\"STEVEN\",\"K\",\"MAYOR'S OFFICE\",\"ADMINISTRATIVE SECRETARY\",1)  "
      ]
     },
     "execution_count": 27,
     "metadata": {},
     "output_type": "execute_result"
    }
   ],
   "source": [
    "@query(employee:sort(salary:desc))"
   ]
  },
  {
   "cell_type": "markdown",
   "metadata": {},
   "source": [
    "It is possible to specify several sorting keys."
   ]
  },
  {
   "cell_type": "code",
   "execution_count": 28,
   "metadata": {
    "collapsed": false
   },
   "outputs": [
    {
     "data": {
      "text/plain": [
       "32181-element Array{Tuple{UTF8String,UTF8String,UTF8String,UTF8String,Int64},1}:\n",
       " (\"GARRY\",\"M\",\"POLICE\",\"SUPERINTENDENT OF POLICE\",260004)      \n",
       " (\"RAHM\",\"E\",\"MAYOR'S OFFICE\",\"MAYOR\",216210)                  \n",
       " (\"JOSE\",\"S\",\"FIRE\",\"FIRE COMMISSIONER\",202728)                \n",
       " (\"CHARLES\",\"S\",\"FIRE\",\"FIRST DEPUTY FIRE COMMISSIONER\",197736)\n",
       " (\"ALFONZA\",\"W\",\"POLICE\",\"FIRST DEPUTY SUPERINTENDENT\",197736) \n",
       " ⋮                                                             \n",
       " (\"MING\",\"Y\",\"FAMILY & SUPPORT\",\"SENIOR COMPANION\",2756)       \n",
       " (\"SONG\",\"Y\",\"FAMILY & SUPPORT\",\"SENIOR COMPANION\",2756)       \n",
       " (\"SONG\",\"Y\",\"FAMILY & SUPPORT\",\"SENIOR COMPANION\",2756)       \n",
       " (\"YELENA\",\"Y\",\"FAMILY & SUPPORT\",\"SENIOR COMPANION\",2756)     \n",
       " (\"STEVEN\",\"K\",\"MAYOR'S OFFICE\",\"ADMINISTRATIVE SECRETARY\",1)  "
      ]
     },
     "execution_count": 28,
     "metadata": {},
     "output_type": "execute_result"
    }
   ],
   "source": [
    "@query(\n",
    "    employee\n",
    "    :sort(\n",
    "        salary:desc,\n",
    "        surname:asc,\n",
    "        name:asc))"
   ]
  },
  {
   "cell_type": "markdown",
   "metadata": {},
   "source": [
    "`:sort` can be used together with `:select` and `:filter`."
   ]
  },
  {
   "cell_type": "code",
   "execution_count": 29,
   "metadata": {
    "collapsed": false
   },
   "outputs": [
    {
     "data": {
      "text/plain": [
       "7-element Array{Tuple{UTF8String,Int64},1}:\n",
       " (\"POLICE\",13570)      \n",
       " (\"FIRE\",4875)         \n",
       " (\"STREETS & SAN\",2090)\n",
       " (\"WATER MGMNT\",1848)  \n",
       " (\"AVIATION\",1344)     \n",
       " (\"TRANSPORTN\",1200)   \n",
       " (\"OEMC\",1135)         "
      ]
     },
     "execution_count": 29,
     "metadata": {},
     "output_type": "execute_result"
    }
   ],
   "source": [
    "@query(\n",
    "    department\n",
    "    :select(name, count(employee))\n",
    "    :filter(count(employee)>1000)\n",
    "    :sort(count(employee):desc))"
   ]
  },
  {
   "cell_type": "markdown",
   "metadata": {},
   "source": [
    "## Compiling and executing queries\n",
    "You can compile and execute queries separately.  To compile a query, use the `RBT.compile()` function."
   ]
  },
  {
   "cell_type": "code",
   "execution_count": 30,
   "metadata": {
    "collapsed": false
   },
   "outputs": [
    {
     "data": {
      "text/plain": [
       "Set(<department>) >> SeqMap(<employee>) >> IsoMap(<name>) : Array{UTF8String,1}"
      ]
     },
     "execution_count": 30,
     "metadata": {},
     "output_type": "execute_result"
    }
   ],
   "source": [
    "q1 = RBT.@compile(department.employee.name)"
   ]
  },
  {
   "cell_type": "code",
   "execution_count": 31,
   "metadata": {
    "collapsed": false
   },
   "outputs": [
    {
     "data": {
      "text/plain": [
       "Count(Set(<department>)) : Int64"
      ]
     },
     "execution_count": 31,
     "metadata": {},
     "output_type": "execute_result"
    }
   ],
   "source": [
    "q2 = RBT.@compile(count(department))"
   ]
  },
  {
   "cell_type": "code",
   "execution_count": 32,
   "metadata": {
    "collapsed": false
   },
   "outputs": [
    {
     "data": {
      "text/plain": [
       "Set(<department>) : Array{RBT.Entity{:department},1}"
      ]
     },
     "execution_count": 32,
     "metadata": {},
     "output_type": "execute_result"
    }
   ],
   "source": [
    "q3 = RBT.@compile(department:select(name,count(employee)))"
   ]
  },
  {
   "cell_type": "code",
   "execution_count": 33,
   "metadata": {
    "collapsed": false
   },
   "outputs": [
    {
     "data": {
      "text/plain": [
       "Count(Set(<employee>) >> Sieve(((IsoMap(<salary>) > Const(100000)) & (IsoMap(<salary>) < Const(200000))))) : Int64"
      ]
     },
     "execution_count": 33,
     "metadata": {},
     "output_type": "execute_result"
    }
   ],
   "source": [
    "q4 = RBT.@compile(count(employee:filter((salary>100000)&(salary<200000))))"
   ]
  },
  {
   "cell_type": "markdown",
   "metadata": {},
   "source": [
    "To execute a query, call the compiled query as a function."
   ]
  },
  {
   "cell_type": "code",
   "execution_count": 34,
   "metadata": {
    "collapsed": false
   },
   "outputs": [
    {
     "data": {
      "text/plain": [
       "32181-element Array{UTF8String,1}:\n",
       " \"ELVIA\"     \n",
       " \"VICENTE\"   \n",
       " \"MUHAMMAD\"  \n",
       " \"GIRLEY\"    \n",
       " \"DILAN\"     \n",
       " ⋮           \n",
       " \"NANCY\"     \n",
       " \"DARCI\"     \n",
       " \"THADDEUS\"  \n",
       " \"RACHENETTE\"\n",
       " \"MICHELLE\"  "
      ]
     },
     "execution_count": 34,
     "metadata": {},
     "output_type": "execute_result"
    }
   ],
   "source": [
    "q1()"
   ]
  },
  {
   "cell_type": "code",
   "execution_count": 35,
   "metadata": {
    "collapsed": false
   },
   "outputs": [
    {
     "data": {
      "text/plain": [
       "35"
      ]
     },
     "execution_count": 35,
     "metadata": {},
     "output_type": "execute_result"
    }
   ],
   "source": [
    "q2()"
   ]
  },
  {
   "cell_type": "code",
   "execution_count": 36,
   "metadata": {
    "collapsed": false
   },
   "outputs": [
    {
     "data": {
      "text/plain": [
       "35-element Array{Tuple{UTF8String,Int64},1}:\n",
       " (\"WATER MGMNT\",1848)    \n",
       " (\"POLICE\",13570)        \n",
       " (\"GENERAL SERVICES\",924)\n",
       " (\"CITY COUNCIL\",397)    \n",
       " (\"STREETS & SAN\",2090)  \n",
       " ⋮                       \n",
       " (\"BOARD OF ETHICS\",9)   \n",
       " (\"POLICE BOARD\",2)      \n",
       " (\"BUDGET & MGMT\",43)    \n",
       " (\"ADMIN HEARNG\",39)     \n",
       " (\"LICENSE APPL COMM\",1) "
      ]
     },
     "execution_count": 36,
     "metadata": {},
     "output_type": "execute_result"
    }
   ],
   "source": [
    "q3()"
   ]
  },
  {
   "cell_type": "code",
   "execution_count": 37,
   "metadata": {
    "collapsed": false
   },
   "outputs": [
    {
     "data": {
      "text/plain": [
       "3916"
      ]
     },
     "execution_count": 37,
     "metadata": {},
     "output_type": "execute_result"
    }
   ],
   "source": [
    "q4()"
   ]
  }
 ],
 "metadata": {
  "kernelspec": {
   "display_name": "Julia 0.5.0-dev",
   "language": "julia",
   "name": "julia-0.5"
  },
  "language_info": {
   "file_extension": ".jl",
   "mimetype": "application/julia",
   "name": "julia",
   "version": "0.5.0"
  }
 },
 "nbformat": 4,
 "nbformat_minor": 0
}
