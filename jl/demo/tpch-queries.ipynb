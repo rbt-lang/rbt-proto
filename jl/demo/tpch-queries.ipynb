{
 "cells": [
  {
   "cell_type": "markdown",
   "metadata": {},
   "source": [
    "# TPC-H Queries\n",
    "\n",
    "In this notebook, we explore how to reimplement SQL queries from the well-known TPC-H benchmark in Rabbit.\n",
    "\n",
    "We start with loading the dataset."
   ]
  },
  {
   "cell_type": "code",
   "execution_count": 1,
   "metadata": {
    "collapsed": false
   },
   "outputs": [
    {
     "data": {
      "text/plain": [
       "Region:\n",
       "  name :: ASCIIString\n",
       "  comment :: ASCIIString\n",
       "  nation (inverse of Nation.region) :: Array{Nation,1} # unique, covering\n",
       "Nation:\n",
       "  name :: ASCIIString\n",
       "  region :: Region\n",
       "  comment :: ASCIIString\n",
       "  customer (inverse of Customer.nation) :: Array{Customer,1} # unique, covering\n",
       "  supplier (inverse of Supplier.nation) :: Array{Supplier,1} # unique, covering\n",
       "Customer:\n",
       "  name :: ASCIIString\n",
       "  address :: ASCIIString\n",
       "  nation :: Nation\n",
       "  phone :: ASCIIString\n",
       "  acctbal :: RBT.Monetary{:USD}\n",
       "  mktsegment :: ASCIIString\n",
       "  comment :: ASCIIString\n",
       "  order (inverse of Order.customer) :: Array{Order,1} # unique, covering\n",
       "Supplier:\n",
       "  name :: ASCIIString\n",
       "  address :: ASCIIString\n",
       "  nation :: Nation\n",
       "  phone :: ASCIIString\n",
       "  acctbal :: RBT.Monetary{:USD}\n",
       "  comment :: ASCIIString\n",
       "  partsupp (inverse of Partsupp.supplier) :: Array{Partsupp,1} # unique, covering\n",
       "  lineitem (inverse of Lineitem.supplier) :: Array{Lineitem,1} # unique, covering\n",
       "Part:\n",
       "  name :: ASCIIString\n",
       "  mfgr :: ASCIIString\n",
       "  brand :: ASCIIString\n",
       "  type_ :: ASCIIString\n",
       "  size :: Int64\n",
       "  container :: ASCIIString\n",
       "  retailprice :: RBT.Monetary{:USD}\n",
       "  comment :: ASCIIString\n",
       "  partsupp (inverse of Partsupp.part) :: Array{Partsupp,1} # unique, covering\n",
       "  lineitem (inverse of Lineitem.part) :: Array{Lineitem,1} # unique, covering\n",
       "Partsupp:\n",
       "  part :: Part\n",
       "  supplier :: Supplier\n",
       "  availqty :: Int64\n",
       "  supplycost :: RBT.Monetary{:USD}\n",
       "  comment :: ASCIIString\n",
       "  lineitem (inverse of Lineitem.partsupp) :: Array{Lineitem,1} # unique, covering\n",
       "Order:\n",
       "  customer :: Customer\n",
       "  orderstatus :: ASCIIString\n",
       "  totalprice :: RBT.Monetary{:USD}\n",
       "  orderdate :: Date\n",
       "  orderpriority :: ASCIIString\n",
       "  clerk :: ASCIIString\n",
       "  shippriority :: Int64\n",
       "  comment :: ASCIIString\n",
       "  lineitem (inverse of Lineitem.order) :: Array{Lineitem,1} # unique, covering\n",
       "Lineitem:\n",
       "  order :: Order\n",
       "  part :: Part\n",
       "  supplier :: Supplier\n",
       "  partsupp :: Partsupp\n",
       "  linenumber :: Int64\n",
       "  quantity :: Int64\n",
       "  extendedprice :: RBT.Monetary{:USD}\n",
       "  discount :: Float64\n",
       "  tax :: Float64\n",
       "  returnflag :: ASCIIString\n",
       "  linestatus :: ASCIIString\n",
       "  shipdate :: Date\n",
       "  commitdate :: Date\n",
       "  receiptdate :: Date\n",
       "  shipinstruct :: ASCIIString\n",
       "  shipmode :: ASCIIString\n",
       "  comment :: ASCIIString"
      ]
     },
     "execution_count": 1,
     "metadata": {},
     "output_type": "execute_result"
    }
   ],
   "source": [
    "include(\"../tpch.jl\")\n",
    "\n",
    "using RBT\n",
    "setdb(tpch)"
   ]
  },
  {
   "cell_type": "markdown",
   "metadata": {},
   "source": [
    "The TPC-H benchmark consists of a generated dataset of customers, suppliers, products and orders as well as a collection of queries that perform various types of business analysis.\n",
    "\n",
    "Table `order` lists all orders made by customers."
   ]
  },
  {
   "cell_type": "code",
   "execution_count": 2,
   "metadata": {
    "collapsed": false
   },
   "outputs": [
    {
     "data": {
      "text/html": [
       "<table class=\"data-frame\"><tr><th></th><th>name</th><th>totalprice</th><th>orderdate</th></tr><tr><th>1</th><td>Customer#000000296</td><td>159877.96</td><td>1996-01-02</td></tr><tr><th>2</th><td>Customer#000000625</td><td>69858.91</td><td>1996-12-01</td></tr><tr><th>3</th><td>Customer#000000988</td><td>183718.98</td><td>1993-10-14</td></tr><tr><th>4</th><td>Customer#000001096</td><td>50463.93</td><td>1995-10-11</td></tr><tr><th>5</th><td>Customer#000000356</td><td>133409.48</td><td>1994-07-30</td></tr><tr><th>6</th><td>Customer#000000445</td><td>35731.21</td><td>1992-02-21</td></tr><tr><th>7</th><td>Customer#000000314</td><td>229881.30</td><td>1996-01-10</td></tr><tr><th>8</th><td>Customer#000001042</td><td>173503.97</td><td>1995-07-16</td></tr><tr><th>9</th><td>Customer#000000536</td><td>135080.42</td><td>1993-10-27</td></tr><tr><th>10</th><td>Customer#000000490</td><td>64891.67</td><td>1998-07-21</td></tr><tr><th>&vellip;</th><td>&vellip;</td><td>&vellip;</td><td>&vellip;</td></tr></table>"
      ],
      "text/plain": [
       "12000x3 DataFrames.DataFrame\n",
       "| Row   | name                 | totalprice | orderdate  |\n",
       "|-------|----------------------|------------|------------|\n",
       "| 1     | \"Customer#000000296\" | 159877.96  | 1996-01-02 |\n",
       "⋮\n",
       "| 11999 | \"Customer#000001036\" | 96525.52   | 1993-08-15 |\n",
       "| 12000 | \"Customer#000000871\" | 43237.08   | 1992-08-14 |"
      ]
     },
     "execution_count": 2,
     "metadata": {},
     "output_type": "execute_result"
    }
   ],
   "source": [
    "@query(\n",
    "    order\n",
    "    :select(\n",
    "        customer.name, totalprice, orderdate))"
   ]
  },
  {
   "cell_type": "markdown",
   "metadata": {},
   "source": [
    "Individual items in each order are stored in the `lineitem` table.  Each item lists the ordered part, the supplier and the pricing information."
   ]
  },
  {
   "cell_type": "code",
   "execution_count": 3,
   "metadata": {
    "collapsed": false
   },
   "outputs": [
    {
     "data": {
      "text/html": [
       "<table class=\"data-frame\"><tr><th></th><th>customer</th><th>linenumber</th><th>part</th><th>supplier</th><th>quantity</th><th>extendedprice</th><th>discount</th><th>tax</th><th>shipdate</th></tr><tr><th>1</th><td>Customer#000000296</td><td>1</td><td>dodger brown ivory blue pink</td><td>Supplier#000000078</td><td>17</td><td>19435.08</td><td>0.04</td><td>0.02</td><td>1996-03-13</td></tr><tr><th>2</th><td>Customer#000000296</td><td>2</td><td>dodger midnight salmon drab saddle</td><td>Supplier#000000060</td><td>36</td><td>51823.08</td><td>0.09</td><td>0.06</td><td>1996-04-12</td></tr><tr><th>3</th><td>Customer#000000296</td><td>3</td><td>blush thistle orchid red lace</td><td>Supplier#000000031</td><td>8</td><td>11284.08</td><td>0.1</td><td>0.02</td><td>1996-01-29</td></tr><tr><th>4</th><td>Customer#000000296</td><td>4</td><td>turquoise indian lemon lavender misty</td><td>Supplier#000000039</td><td>28</td><td>25704.28</td><td>0.09</td><td>0.06</td><td>1996-04-21</td></tr><tr><th>5</th><td>Customer#000000296</td><td>5</td><td>turquoise lime royal metallic azure</td><td>Supplier#000000020</td><td>24</td><td>26236.56</td><td>0.1</td><td>0.04</td><td>1996-03-30</td></tr><tr><th>6</th><td>Customer#000000296</td><td>6</td><td>burnished black blue metallic orchid</td><td>Supplier#000000009</td><td>32</td><td>32835.84</td><td>0.07</td><td>0.02</td><td>1996-01-30</td></tr><tr><th>7</th><td>Customer#000000625</td><td>1</td><td>peach goldenrod honeydew moccasin sienna</td><td>Supplier#000000031</td><td>38</td><td>66532.30</td><td>0.0</td><td>0.05</td><td>1997-01-28</td></tr><tr><th>8</th><td>Customer#000000988</td><td>1</td><td>green blush tomato burlywood seashell</td><td>Supplier#000000016</td><td>45</td><td>42076.35</td><td>0.06</td><td>0.0</td><td>1994-02-02</td></tr><tr><th>9</th><td>Customer#000000988</td><td>2</td><td>linen frosted slate coral peru</td><td>Supplier#000000057</td><td>49</td><td>51604.35</td><td>0.1</td><td>0.0</td><td>1993-11-09</td></tr><tr><th>10</th><td>Customer#000000988</td><td>3</td><td>blue drab lime khaki sienna</td><td>Supplier#000000053</td><td>27</td><td>25083.54</td><td>0.06</td><td>0.07</td><td>1994-01-16</td></tr><tr><th>&vellip;</th><td>&vellip;</td><td>&vellip;</td><td>&vellip;</td><td>&vellip;</td><td>&vellip;</td><td>&vellip;</td><td>&vellip;</td><td>&vellip;</td><td>&vellip;</td></tr></table>"
      ],
      "text/plain": [
       "48214x9 DataFrames.DataFrame\n",
       "| Row   | customer             | linenumber |\n",
       "|-------|----------------------|------------|\n",
       "| 1     | \"Customer#000000296\" | 1          |\n",
       "⋮\n",
       "| 48213 | \"Customer#000001036\" | 3          |\n",
       "| 48214 | \"Customer#000000871\" | 1          |\n",
       "\n",
       "| Row   | part                                | supplier             |\n",
       "|-------|-------------------------------------|----------------------|\n",
       "| 1     | \"dodger brown ivory blue pink\"      | \"Supplier#000000078\" |\n",
       "⋮\n",
       "| 48213 | \"peach antique deep peru saddle\"    | \"Supplier#000000016\" |\n",
       "| 48214 | \"burlywood orchid dark drab dodger\" | \"Supplier#000000007\" |\n",
       "\n",
       "| Row   | quantity | extendedprice | discount | tax  | shipdate   |\n",
       "|-------|----------|---------------|----------|------|------------|\n",
       "| 1     | 17       | 19435.08      | 0.04     | 0.02 | 1996-03-13 |\n",
       "⋮\n",
       "| 48213 | 29       | 34489.12      | 0.06     | 0.0  | 1993-11-08 |\n",
       "| 48214 | 39       | 44703.36      | 0.07     | 0.04 | 1992-11-24 |"
      ]
     },
     "execution_count": 3,
     "metadata": {},
     "output_type": "execute_result"
    }
   ],
   "source": [
    "@query(\n",
    "    lineitem\n",
    "    :select(\n",
    "        order.customer, linenumber, part, supplier, quantity, extendedprice, discount, tax, shipdate))"
   ]
  },
  {
   "cell_type": "markdown",
   "metadata": {},
   "source": [
    "For each customer and supplier, we track their country of origin.  Table `nation` contains a list of all countries partitioned by region."
   ]
  },
  {
   "cell_type": "code",
   "execution_count": 4,
   "metadata": {
    "collapsed": false
   },
   "outputs": [
    {
     "data": {
      "text/html": [
       "<table class=\"data-frame\"><tr><th></th><th>name</th><th>region</th><th>cust_count</th><th>supp_count</th></tr><tr><th>1</th><td>ALGERIA</td><td>AFRICA</td><td>51</td><td>3</td></tr><tr><th>2</th><td>ARGENTINA</td><td>AMERICA</td><td>50</td><td>3</td></tr><tr><th>3</th><td>BRAZIL</td><td>AMERICA</td><td>63</td><td>1</td></tr><tr><th>4</th><td>CANADA</td><td>AMERICA</td><td>48</td><td>2</td></tr><tr><th>5</th><td>EGYPT</td><td>MIDDLE EAST</td><td>56</td><td>4</td></tr><tr><th>6</th><td>ETHIOPIA</td><td>AFRICA</td><td>44</td><td>3</td></tr><tr><th>7</th><td>FRANCE</td><td>EUROPE</td><td>32</td><td>1</td></tr><tr><th>8</th><td>GERMANY</td><td>EUROPE</td><td>41</td><td>4</td></tr><tr><th>9</th><td>INDIA</td><td>ASIA</td><td>52</td><td>5</td></tr><tr><th>10</th><td>INDONESIA</td><td>ASIA</td><td>56</td><td>4</td></tr><tr><th>&vellip;</th><td>&vellip;</td><td>&vellip;</td><td>&vellip;</td><td>&vellip;</td></tr></table>"
      ],
      "text/plain": [
       "25x4 DataFrames.DataFrame\n",
       "| Row | name             | region    | cust_count | supp_count |\n",
       "|-----|------------------|-----------|------------|------------|\n",
       "| 1   | \"ALGERIA\"        | \"AFRICA\"  | 51         | 3          |\n",
       "⋮\n",
       "| 24  | \"UNITED KINGDOM\" | \"EUROPE\"  | 42         | 3          |\n",
       "| 25  | \"UNITED STATES\"  | \"AMERICA\" | 31         | 6          |"
      ]
     },
     "execution_count": 4,
     "metadata": {},
     "output_type": "execute_result"
    }
   ],
   "source": [
    "@query(\n",
    "    nation\n",
    "    :select(\n",
    "        name,\n",
    "        region,\n",
    "        cust_count => count(customer),\n",
    "        supp_count => count(supplier)))"
   ]
  },
  {
   "cell_type": "markdown",
   "metadata": {},
   "source": [
    "The following query descriptions are taken directly from TPC-H documentation.  We will show how to incrementally construct these queries in Rabbit."
   ]
  },
  {
   "cell_type": "markdown",
   "metadata": {},
   "source": [
    "## Pricing Summary Report Query (Q1)\n",
    "This query reports the amount of business that was billed, shipped, and returned.\n",
    "\n",
    "### Business Question\n",
    "The Pricing Summary Report Query provides a summary pricing report for all lineitems shipped as of a given date.\n",
    "The date is within 60 - 120 days of the greatest ship date contained in the database. The query lists totals for\n",
    "extended price, discounted extended price, discounted extended price plus tax, average quantity, average extended\n",
    "price, and average discount. These aggregates are grouped by RETURNFLAG and LINESTATUS, and listed in\n",
    "ascending order of RETURNFLAG and LINESTATUS. A count of the number of lineitems in each group is\n",
    "included.\n",
    "        \n",
    "### Query Definition\n",
    "```\n",
    "select\n",
    "    l_returnflag,\n",
    "    l_linestatus,\n",
    "    sum(l_quantity) as sum_qty,\n",
    "    sum(l_extendedprice) as sum_base_price,\n",
    "    sum(l_extendedprice*(1-l_discount)) as sum_disc_price,\n",
    "    sum(l_extendedprice*(1-l_discount)*(1+l_tax)) as sum_charge,\n",
    "    avg(l_quantity) as avg_qty,\n",
    "    avg(l_extendedprice) as avg_price,\n",
    "    avg(l_discount) as avg_disc,\n",
    "    count(*) as count_order\n",
    "from\n",
    "    lineitem\n",
    "where\n",
    "    l_shipdate <= date '1998-12-01' - interval '[DELTA]' day\n",
    "group by\n",
    "    l_returnflag,\n",
    "    l_linestatus\n",
    "order by\n",
    "    l_returnflag,\n",
    "    l_linestatus;\n",
    "```\n",
    "\n",
    "### Substitution Parameters\n",
    "1. DELTA = 90."
   ]
  },
  {
   "cell_type": "markdown",
   "metadata": {},
   "source": [
    "To generate this report, we use the data from the `lineitem` table."
   ]
  },
  {
   "cell_type": "code",
   "execution_count": 5,
   "metadata": {
    "collapsed": false
   },
   "outputs": [
    {
     "data": {
      "text/html": [
       "<table class=\"data-frame\"><tr><th></th><th>order</th><th>linenumber</th><th>shipdate</th><th>quantity</th><th>extendedprice</th><th>discount</th><th>tax</th><th>returnflag</th><th>linestatus</th></tr><tr><th>1</th><td>Customer#000000296</td><td>1</td><td>1996-03-13</td><td>17</td><td>19435.08</td><td>0.04</td><td>0.02</td><td>N</td><td>O</td></tr><tr><th>2</th><td>Customer#000000296</td><td>2</td><td>1996-04-12</td><td>36</td><td>51823.08</td><td>0.09</td><td>0.06</td><td>N</td><td>O</td></tr><tr><th>3</th><td>Customer#000000296</td><td>3</td><td>1996-01-29</td><td>8</td><td>11284.08</td><td>0.1</td><td>0.02</td><td>N</td><td>O</td></tr><tr><th>4</th><td>Customer#000000296</td><td>4</td><td>1996-04-21</td><td>28</td><td>25704.28</td><td>0.09</td><td>0.06</td><td>N</td><td>O</td></tr><tr><th>5</th><td>Customer#000000296</td><td>5</td><td>1996-03-30</td><td>24</td><td>26236.56</td><td>0.1</td><td>0.04</td><td>N</td><td>O</td></tr><tr><th>6</th><td>Customer#000000296</td><td>6</td><td>1996-01-30</td><td>32</td><td>32835.84</td><td>0.07</td><td>0.02</td><td>N</td><td>O</td></tr><tr><th>7</th><td>Customer#000000625</td><td>1</td><td>1997-01-28</td><td>38</td><td>66532.30</td><td>0.0</td><td>0.05</td><td>N</td><td>O</td></tr><tr><th>8</th><td>Customer#000000988</td><td>1</td><td>1994-02-02</td><td>45</td><td>42076.35</td><td>0.06</td><td>0.0</td><td>R</td><td>F</td></tr><tr><th>9</th><td>Customer#000000988</td><td>2</td><td>1993-11-09</td><td>49</td><td>51604.35</td><td>0.1</td><td>0.0</td><td>R</td><td>F</td></tr><tr><th>10</th><td>Customer#000000988</td><td>3</td><td>1994-01-16</td><td>27</td><td>25083.54</td><td>0.06</td><td>0.07</td><td>A</td><td>F</td></tr><tr><th>&vellip;</th><td>&vellip;</td><td>&vellip;</td><td>&vellip;</td><td>&vellip;</td><td>&vellip;</td><td>&vellip;</td><td>&vellip;</td><td>&vellip;</td><td>&vellip;</td></tr></table>"
      ],
      "text/plain": [
       "48214x9 DataFrames.DataFrame\n",
       "| Row   | order                | linenumber | shipdate   | quantity |\n",
       "|-------|----------------------|------------|------------|----------|\n",
       "| 1     | \"Customer#000000296\" | 1          | 1996-03-13 | 17       |\n",
       "⋮\n",
       "| 48213 | \"Customer#000001036\" | 3          | 1993-11-08 | 29       |\n",
       "| 48214 | \"Customer#000000871\" | 1          | 1992-11-24 | 39       |\n",
       "\n",
       "| Row   | extendedprice | discount | tax  | returnflag | linestatus |\n",
       "|-------|---------------|----------|------|------------|------------|\n",
       "| 1     | 19435.08      | 0.04     | 0.02 | \"N\"        | \"O\"        |\n",
       "⋮\n",
       "| 48213 | 34489.12      | 0.06     | 0.0  | \"R\"        | \"F\"        |\n",
       "| 48214 | 44703.36      | 0.07     | 0.04 | \"R\"        | \"F\"        |"
      ]
     },
     "execution_count": 5,
     "metadata": {},
     "output_type": "execute_result"
    }
   ],
   "source": [
    "@query(\n",
    "    lineitem\n",
    "    :select(order, linenumber, shipdate, quantity, extendedprice, discount, tax, returnflag, linestatus))"
   ]
  },
  {
   "cell_type": "markdown",
   "metadata": {},
   "source": [
    "We start with extracting all lineitems in the selected date range."
   ]
  },
  {
   "cell_type": "code",
   "execution_count": 6,
   "metadata": {
    "collapsed": false
   },
   "outputs": [
    {
     "data": {
      "text/html": [
       "<table class=\"data-frame\"><tr><th></th><th>order</th><th>part</th><th>supplier</th><th>linenumber</th><th>quantity</th><th>extendedprice</th><th>discount</th><th>tax</th><th>returnflag</th><th>linestatus</th><th>shipdate</th><th>commitdate</th><th>receiptdate</th><th>shipinstruct</th><th>shipmode</th><th>comment</th></tr><tr><th>1</th><td>Customer#000000296</td><td>dodger brown ivory blue pink</td><td>Supplier#000000078</td><td>1</td><td>17</td><td>19435.08</td><td>0.04</td><td>0.02</td><td>N</td><td>O</td><td>1996-03-13</td><td>1996-02-12</td><td>1996-03-22</td><td>DELIVER IN PERSON</td><td>TRUCK</td><td>egular courts above the</td></tr><tr><th>2</th><td>Customer#000000296</td><td>dodger midnight salmon drab saddle</td><td>Supplier#000000060</td><td>2</td><td>36</td><td>51823.08</td><td>0.09</td><td>0.06</td><td>N</td><td>O</td><td>1996-04-12</td><td>1996-02-28</td><td>1996-04-20</td><td>TAKE BACK RETURN</td><td>MAIL</td><td>ly final dependencies: slyly bold </td></tr><tr><th>3</th><td>Customer#000000296</td><td>blush thistle orchid red lace</td><td>Supplier#000000031</td><td>3</td><td>8</td><td>11284.08</td><td>0.1</td><td>0.02</td><td>N</td><td>O</td><td>1996-01-29</td><td>1996-03-05</td><td>1996-01-31</td><td>TAKE BACK RETURN</td><td>REG AIR</td><td>riously. regular, express dep</td></tr><tr><th>4</th><td>Customer#000000296</td><td>turquoise indian lemon lavender misty</td><td>Supplier#000000039</td><td>4</td><td>28</td><td>25704.28</td><td>0.09</td><td>0.06</td><td>N</td><td>O</td><td>1996-04-21</td><td>1996-03-30</td><td>1996-05-16</td><td>NONE</td><td>AIR</td><td>lites. fluffily even de</td></tr><tr><th>5</th><td>Customer#000000296</td><td>turquoise lime royal metallic azure</td><td>Supplier#000000020</td><td>5</td><td>24</td><td>26236.56</td><td>0.1</td><td>0.04</td><td>N</td><td>O</td><td>1996-03-30</td><td>1996-03-14</td><td>1996-04-01</td><td>NONE</td><td>FOB</td><td> pending foxes. slyly re</td></tr><tr><th>6</th><td>Customer#000000296</td><td>burnished black blue metallic orchid</td><td>Supplier#000000009</td><td>6</td><td>32</td><td>32835.84</td><td>0.07</td><td>0.02</td><td>N</td><td>O</td><td>1996-01-30</td><td>1996-02-07</td><td>1996-02-03</td><td>DELIVER IN PERSON</td><td>MAIL</td><td>arefully slyly ex</td></tr><tr><th>7</th><td>Customer#000000625</td><td>peach goldenrod honeydew moccasin sienna</td><td>Supplier#000000031</td><td>1</td><td>38</td><td>66532.30</td><td>0.0</td><td>0.05</td><td>N</td><td>O</td><td>1997-01-28</td><td>1997-01-14</td><td>1997-02-02</td><td>TAKE BACK RETURN</td><td>RAIL</td><td>ven requests. deposits breach a</td></tr><tr><th>8</th><td>Customer#000000988</td><td>green blush tomato burlywood seashell</td><td>Supplier#000000016</td><td>1</td><td>45</td><td>42076.35</td><td>0.06</td><td>0.0</td><td>R</td><td>F</td><td>1994-02-02</td><td>1994-01-04</td><td>1994-02-23</td><td>NONE</td><td>AIR</td><td>ongside of the furiously brave acco</td></tr><tr><th>9</th><td>Customer#000000988</td><td>linen frosted slate coral peru</td><td>Supplier#000000057</td><td>2</td><td>49</td><td>51604.35</td><td>0.1</td><td>0.0</td><td>R</td><td>F</td><td>1993-11-09</td><td>1993-12-20</td><td>1993-11-24</td><td>TAKE BACK RETURN</td><td>RAIL</td><td> unusual accounts. eve</td></tr><tr><th>10</th><td>Customer#000000988</td><td>blue drab lime khaki sienna</td><td>Supplier#000000053</td><td>3</td><td>27</td><td>25083.54</td><td>0.06</td><td>0.07</td><td>A</td><td>F</td><td>1994-01-16</td><td>1993-11-22</td><td>1994-01-23</td><td>DELIVER IN PERSON</td><td>SHIP</td><td>nal foxes wake. </td></tr><tr><th>&vellip;</th><td>&vellip;</td><td>&vellip;</td><td>&vellip;</td><td>&vellip;</td><td>&vellip;</td><td>&vellip;</td><td>&vellip;</td><td>&vellip;</td><td>&vellip;</td><td>&vellip;</td><td>&vellip;</td><td>&vellip;</td><td>&vellip;</td><td>&vellip;</td><td>&vellip;</td><td>&vellip;</td></tr></table>"
      ],
      "text/plain": [
       "47535x16 DataFrames.DataFrame\n",
       "| Row   | order                | part                                |\n",
       "|-------|----------------------|-------------------------------------|\n",
       "| 1     | \"Customer#000000296\" | \"dodger brown ivory blue pink\"      |\n",
       "⋮\n",
       "| 47534 | \"Customer#000001036\" | \"peach antique deep peru saddle\"    |\n",
       "| 47535 | \"Customer#000000871\" | \"burlywood orchid dark drab dodger\" |\n",
       "\n",
       "| Row   | supplier             | linenumber | quantity | extendedprice |\n",
       "|-------|----------------------|------------|----------|---------------|\n",
       "| 1     | \"Supplier#000000078\" | 1          | 17       | 19435.08      |\n",
       "⋮\n",
       "| 47534 | \"Supplier#000000016\" | 3          | 29       | 34489.12      |\n",
       "| 47535 | \"Supplier#000000007\" | 1          | 39       | 44703.36      |\n",
       "\n",
       "| Row   | discount | tax  | returnflag | linestatus | shipdate   | commitdate |\n",
       "|-------|----------|------|------------|------------|------------|------------|\n",
       "| 1     | 0.04     | 0.02 | \"N\"        | \"O\"        | 1996-03-13 | 1996-02-12 |\n",
       "⋮\n",
       "| 47534 | 0.06     | 0.0  | \"R\"        | \"F\"        | 1993-11-08 | 1993-09-29 |\n",
       "| 47535 | 0.07     | 0.04 | \"R\"        | \"F\"        | 1992-11-24 | 1992-10-21 |\n",
       "\n",
       "| Row   | receiptdate | shipinstruct        | shipmode |\n",
       "|-------|-------------|---------------------|----------|\n",
       "| 1     | 1996-03-22  | \"DELIVER IN PERSON\" | \"TRUCK\"  |\n",
       "⋮\n",
       "| 47534 | 1993-11-16  | \"TAKE BACK RETURN\"  | \"MAIL\"   |\n",
       "| 47535 | 1992-12-12  | \"TAKE BACK RETURN\"  | \"MAIL\"   |\n",
       "\n",
       "| Row   | comment                                |\n",
       "|-------|----------------------------------------|\n",
       "| 1     | \"egular courts above the\"              |\n",
       "⋮\n",
       "| 47534 | \"ackages may serve above the furiousl\" |\n",
       "| 47535 | \"arefully ironic as\"                   |"
      ]
     },
     "execution_count": 6,
     "metadata": {},
     "output_type": "execute_result"
    }
   ],
   "source": [
    "@query(\n",
    "    lineitem\n",
    "    :filter(shipdate <= date(\"1998-12-01\") - DELTA*days),\n",
    "    DELTA=90)"
   ]
  },
  {
   "cell_type": "markdown",
   "metadata": {},
   "source": [
    "Next, we group the lineitems by values of `returnflag` and `linestatus` attributes."
   ]
  },
  {
   "cell_type": "code",
   "execution_count": 7,
   "metadata": {
    "collapsed": false
   },
   "outputs": [
    {
     "data": {
      "text/html": [
       "<table class=\"data-frame\"><tr><th></th><th>returnflag</th><th>linestatus</th><th>lineitem</th></tr><tr><th>1</th><td>A</td><td>F</td><td><table class=\"data-frame\"><tr><th></th><th>order</th><th>part</th><th>supplier</th><th>linenumber</th><th>quantity</th><th>extendedprice</th><th>discount</th><th>tax</th><th>returnflag</th><th>linestatus</th><th>shipdate</th><th>commitdate</th><th>receiptdate</th><th>shipinstruct</th><th>shipmode</th><th>comment</th></tr><tr><th>1</th><td>Customer#000000988</td><td>blue drab lime khaki sienna</td><td>Supplier#000000053</td><td>3</td><td>27</td><td>25083.54</td><td>0.06</td><td>0.07</td><td>A</td><td>F</td><td>1994-01-16</td><td>1993-11-22</td><td>1994-01-23</td><td>DELIVER IN PERSON</td><td>SHIP</td><td>nal foxes wake. </td></tr><tr><th>2</th><td>Customer#000000988</td><td>salmon antique burlywood linen peach</td><td>Supplier#000000019</td><td>4</td><td>2</td><td>2272.46</td><td>0.01</td><td>0.06</td><td>A</td><td>F</td><td>1993-12-04</td><td>1994-01-07</td><td>1994-01-01</td><td>NONE</td><td>TRUCK</td><td>y. fluffily pending d</td></tr><tr><th>3</th><td>Customer#000000988</td><td>sandy sky gainsboro peach cornflower</td><td>Supplier#000000017</td><td>6</td><td>26</td><td>36360.74</td><td>0.1</td><td>0.02</td><td>A</td><td>F</td><td>1993-10-29</td><td>1993-12-18</td><td>1993-11-04</td><td>TAKE BACK RETURN</td><td>RAIL</td><td>ges sleep after the caref</td></tr><tr><th>4</th><td>Customer#000000356</td><td>misty snow lace burnished linen</td><td>Supplier#000000005</td><td>3</td><td>50</td><td>60065.00</td><td>0.08</td><td>0.03</td><td>A</td><td>F</td><td>1994-08-08</td><td>1994-10-13</td><td>1994-08-26</td><td>DELIVER IN PERSON</td><td>AIR</td><td>eodolites. fluffily unusual</td></tr><tr><th>&vellip;</th><td>&vellip;</td><td>&vellip;</td><td>&vellip;</td><td>&vellip;</td><td>&vellip;</td><td>&vellip;</td><td>&vellip;</td><td>&vellip;</td><td>&vellip;</td><td>&vellip;</td><td>&vellip;</td><td>&vellip;</td><td>&vellip;</td><td>&vellip;</td><td>&vellip;</td><td>&vellip;</td></tr></table></td></tr><tr><th>2</th><td>N</td><td>F</td><td><table class=\"data-frame\"><tr><th></th><th>order</th><th>part</th><th>supplier</th><th>linenumber</th><th>quantity</th><th>extendedprice</th><th>discount</th><th>tax</th><th>returnflag</th><th>linestatus</th><th>shipdate</th><th>commitdate</th><th>receiptdate</th><th>shipinstruct</th><th>shipmode</th><th>comment</th></tr><tr><th>1</th><td>Customer#000000262</td><td>hot midnight orchid dim steel</td><td>Supplier#000000027</td><td>4</td><td>25</td><td>26103.50</td><td>0.04</td><td>0.01</td><td>N</td><td>F</td><td>1995-06-13</td><td>1995-05-23</td><td>1995-06-24</td><td>TAKE BACK RETURN</td><td>FOB</td><td>s-- quickly final accounts</td></tr><tr><th>2</th><td>Customer#000000760</td><td>tan thistle frosted indian lawn</td><td>Supplier#000000011</td><td>1</td><td>31</td><td>32523.34</td><td>0.0</td><td>0.03</td><td>N</td><td>F</td><td>1995-06-05</td><td>1995-06-18</td><td>1995-06-26</td><td>COLLECT COD</td><td>FOB</td><td>final theodolites. fluffil</td></tr><tr><th>3</th><td>Customer#000000380</td><td>pale navajo royal papaya thistle</td><td>Supplier#000000042</td><td>1</td><td>42</td><td>50160.18</td><td>0.03</td><td>0.0</td><td>N</td><td>F</td><td>1995-06-07</td><td>1995-05-29</td><td>1995-06-23</td><td>TAKE BACK RETURN</td><td>SHIP</td><td>y asymptotes. regular depen</td></tr><tr><th>4</th><td>Customer#000001066</td><td>navy light red royal olive</td><td>Supplier#000000061</td><td>1</td><td>16</td><td>18468.00</td><td>0.1</td><td>0.06</td><td>N</td><td>F</td><td>1995-05-23</td><td>1995-05-07</td><td>1995-06-19</td><td>NONE</td><td>TRUCK</td><td>un quickly slyly</td></tr><tr><th>&vellip;</th><td>&vellip;</td><td>&vellip;</td><td>&vellip;</td><td>&vellip;</td><td>&vellip;</td><td>&vellip;</td><td>&vellip;</td><td>&vellip;</td><td>&vellip;</td><td>&vellip;</td><td>&vellip;</td><td>&vellip;</td><td>&vellip;</td><td>&vellip;</td><td>&vellip;</td><td>&vellip;</td></tr></table></td></tr><tr><th>3</th><td>N</td><td>O</td><td><table class=\"data-frame\"><tr><th></th><th>order</th><th>part</th><th>supplier</th><th>linenumber</th><th>quantity</th><th>extendedprice</th><th>discount</th><th>tax</th><th>returnflag</th><th>linestatus</th><th>shipdate</th><th>commitdate</th><th>receiptdate</th><th>shipinstruct</th><th>shipmode</th><th>comment</th></tr><tr><th>1</th><td>Customer#000000296</td><td>dodger brown ivory blue pink</td><td>Supplier#000000078</td><td>1</td><td>17</td><td>19435.08</td><td>0.04</td><td>0.02</td><td>N</td><td>O</td><td>1996-03-13</td><td>1996-02-12</td><td>1996-03-22</td><td>DELIVER IN PERSON</td><td>TRUCK</td><td>egular courts above the</td></tr><tr><th>2</th><td>Customer#000000296</td><td>dodger midnight salmon drab saddle</td><td>Supplier#000000060</td><td>2</td><td>36</td><td>51823.08</td><td>0.09</td><td>0.06</td><td>N</td><td>O</td><td>1996-04-12</td><td>1996-02-28</td><td>1996-04-20</td><td>TAKE BACK RETURN</td><td>MAIL</td><td>ly final dependencies: slyly bold </td></tr><tr><th>3</th><td>Customer#000000296</td><td>blush thistle orchid red lace</td><td>Supplier#000000031</td><td>3</td><td>8</td><td>11284.08</td><td>0.1</td><td>0.02</td><td>N</td><td>O</td><td>1996-01-29</td><td>1996-03-05</td><td>1996-01-31</td><td>TAKE BACK RETURN</td><td>REG AIR</td><td>riously. regular, express dep</td></tr><tr><th>4</th><td>Customer#000000296</td><td>turquoise indian lemon lavender misty</td><td>Supplier#000000039</td><td>4</td><td>28</td><td>25704.28</td><td>0.09</td><td>0.06</td><td>N</td><td>O</td><td>1996-04-21</td><td>1996-03-30</td><td>1996-05-16</td><td>NONE</td><td>AIR</td><td>lites. fluffily even de</td></tr><tr><th>&vellip;</th><td>&vellip;</td><td>&vellip;</td><td>&vellip;</td><td>&vellip;</td><td>&vellip;</td><td>&vellip;</td><td>&vellip;</td><td>&vellip;</td><td>&vellip;</td><td>&vellip;</td><td>&vellip;</td><td>&vellip;</td><td>&vellip;</td><td>&vellip;</td><td>&vellip;</td><td>&vellip;</td></tr></table></td></tr><tr><th>4</th><td>R</td><td>F</td><td><table class=\"data-frame\"><tr><th></th><th>order</th><th>part</th><th>supplier</th><th>linenumber</th><th>quantity</th><th>extendedprice</th><th>discount</th><th>tax</th><th>returnflag</th><th>linestatus</th><th>shipdate</th><th>commitdate</th><th>receiptdate</th><th>shipinstruct</th><th>shipmode</th><th>comment</th></tr><tr><th>1</th><td>Customer#000000988</td><td>green blush tomato burlywood seashell</td><td>Supplier#000000016</td><td>1</td><td>45</td><td>42076.35</td><td>0.06</td><td>0.0</td><td>R</td><td>F</td><td>1994-02-02</td><td>1994-01-04</td><td>1994-02-23</td><td>NONE</td><td>AIR</td><td>ongside of the furiously brave acco</td></tr><tr><th>2</th><td>Customer#000000988</td><td>linen frosted slate coral peru</td><td>Supplier#000000057</td><td>2</td><td>49</td><td>51604.35</td><td>0.1</td><td>0.0</td><td>R</td><td>F</td><td>1993-11-09</td><td>1993-12-20</td><td>1993-11-24</td><td>TAKE BACK RETURN</td><td>RAIL</td><td> unusual accounts. eve</td></tr><tr><th>3</th><td>Customer#000000988</td><td>bisque saddle cyan rose wheat</td><td>Supplier#000000060</td><td>5</td><td>28</td><td>38260.88</td><td>0.04</td><td>0.0</td><td>R</td><td>F</td><td>1993-12-14</td><td>1994-01-10</td><td>1994-01-01</td><td>TAKE BACK RETURN</td><td>FOB</td><td>ages nag slyly pending</td></tr><tr><th>4</th><td>Customer#000000356</td><td>snow blush violet lace ghost</td><td>Supplier#000000070</td><td>1</td><td>15</td><td>26547.90</td><td>0.02</td><td>0.04</td><td>R</td><td>F</td><td>1994-10-31</td><td>1994-08-31</td><td>1994-11-20</td><td>NONE</td><td>AIR</td><td>ts wake furiously </td></tr><tr><th>&vellip;</th><td>&vellip;</td><td>&vellip;</td><td>&vellip;</td><td>&vellip;</td><td>&vellip;</td><td>&vellip;</td><td>&vellip;</td><td>&vellip;</td><td>&vellip;</td><td>&vellip;</td><td>&vellip;</td><td>&vellip;</td><td>&vellip;</td><td>&vellip;</td><td>&vellip;</td><td>&vellip;</td></tr></table></td></tr></table>"
      ],
      "text/plain": [
       "4x3 DataFrames.DataFrame\n",
       "| Row | returnflag | linestatus |\n",
       "|-----|------------|------------|\n",
       "| 1   | \"A\"        | \"F\"        |\n",
       "| 2   | \"N\"        | \"F\"        |\n",
       "| 3   | \"N\"        | \"O\"        |\n",
       "| 4   | \"R\"        | \"F\"        |\n",
       "\n",
       "| Row | lineitem                                                                                                                                                                                                                                                                                                                                                        |\n",
       "|-----|-----------------------------------------------------------------------------------------------------------------------------------------------------------------------------------------------------------------------------------------------------------------------------------------------------------------------------------------------------------------|\n",
       "| 1   | 11958x16 DataFrames.DataFrame\n",
       "| Row   | order                | part                                 |\n",
       "|-------|----------------------|--------------------------------------|\n",
       "| 1     | \"Customer#000000988\" | \"blue drab lime khaki sienna\"        |\n",
       "⋮\n",
       "| 11957 | \"Customer#000000529\" | \"chiffon royal lime almond midnight\" |\n",
       "| 11958 | \"Customer#000001036\" | \"medium forest blue ghost black\"     |\n",
       "\n",
       "| Row   | supplier             | linenumber | quantity | extendedprice |\n",
       "|-------|----------------------|------------|----------|---------------|\n",
       "| 1     | \"Supplier#000000053\" | 3          | 27       | 25083.54      |\n",
       "⋮\n",
       "| 11957 | \"Supplier#000000034\" | 4          | 14       | 24960.32      |\n",
       "| 11958 | \"Supplier#000000063\" | 2          | 42       | 38724.84      |\n",
       "\n",
       "| Row   | discount | tax  | returnflag | linestatus | shipdate   | commitdate |\n",
       "|-------|----------|------|------------|------------|------------|------------|\n",
       "| 1     | 0.06     | 0.07 | \"A\"        | \"F\"        | 1994-01-16 | 1993-11-22 |\n",
       "⋮\n",
       "| 11957 | 0.08     | 0.07 | \"A\"        | \"F\"        | 1994-12-10 | 1994-10-07 |\n",
       "| 11958 | 0.05     | 0.02 | \"A\"        | \"F\"        | 1993-12-13 | 1993-09-29 |\n",
       "\n",
       "| Row   | receiptdate | shipinstruct        | shipmode | comment            |\n",
       "|-------|-------------|---------------------|----------|--------------------|\n",
       "| 1     | 1994-01-23  | \"DELIVER IN PERSON\" | \"SHIP\"   | \"nal foxes wake. \" |\n",
       "⋮\n",
       "| 11957 | 1994-12-27  | \"TAKE BACK RETURN\"  | \"TRUCK\"  | \" express reques\"  |\n",
       "| 11958 | 1993-12-26  | \"COLLECT COD\"       | \"SHIP\"   | \"tions. daringl\"   |                                                                                                                                                                                                                                                                                   |\n",
       "| 2   | 288x16 DataFrames.DataFrame\n",
       "| Row | order                | part                                         |\n",
       "|-----|----------------------|----------------------------------------------|\n",
       "| 1   | \"Customer#000000262\" | \"hot midnight orchid dim steel\"              |\n",
       "⋮\n",
       "| 287 | \"Customer#000000397\" | \"wheat blush forest metallic navajo\"         |\n",
       "| 288 | \"Customer#000000397\" | \"burnished seashell floral moccasin antique\" |\n",
       "\n",
       "| Row | supplier             | linenumber | quantity | extendedprice |\n",
       "|-----|----------------------|------------|----------|---------------|\n",
       "| 1   | \"Supplier#000000027\" | 4          | 25       | 26103.50      |\n",
       "⋮\n",
       "| 287 | \"Supplier#000000045\" | 1          | 2        | 2048.24       |\n",
       "| 288 | \"Supplier#000000075\" | 2          | 50       | 85740.50      |\n",
       "\n",
       "| Row | discount | tax  | returnflag | linestatus | shipdate   | commitdate |\n",
       "|-----|----------|------|------------|------------|------------|------------|\n",
       "| 1   | 0.04     | 0.01 | \"N\"        | \"F\"        | 1995-06-13 | 1995-05-23 |\n",
       "⋮\n",
       "| 287 | 0.04     | 0.0  | \"N\"        | \"F\"        | 1995-06-17 | 1995-07-08 |\n",
       "| 288 | 0.02     | 0.01 | \"N\"        | \"F\"        | 1995-05-28 | 1995-08-03 |\n",
       "\n",
       "| Row | receiptdate | shipinstruct       | shipmode |\n",
       "|-----|-------------|--------------------|----------|\n",
       "| 1   | 1995-06-24  | \"TAKE BACK RETURN\" | \"FOB\"    |\n",
       "⋮\n",
       "| 287 | 1995-06-20  | \"NONE\"             | \"FOB\"    |\n",
       "| 288 | 1995-06-25  | \"COLLECT COD\"      | \"FOB\"    |\n",
       "\n",
       "| Row | comment                      |\n",
       "|-----|------------------------------|\n",
       "| 1   | \"s-- quickly final accounts\" |\n",
       "⋮\n",
       "| 287 | \"refully slyly ironic re\"    |\n",
       "| 288 | \"ly enticing ideas\"          |                                                                                                 |\n",
       "| 3   | 23326x16 DataFrames.DataFrame\n",
       "| Row   | order                | part                                  |\n",
       "|-------|----------------------|---------------------------------------|\n",
       "| 1     | \"Customer#000000296\" | \"dodger brown ivory blue pink\"        |\n",
       "⋮\n",
       "| 23325 | \"Customer#000000110\" | \"pale tan lavender powder cornflower\" |\n",
       "| 23326 | \"Customer#000000110\" | \"plum midnight coral snow lemon\"      |\n",
       "\n",
       "| Row   | supplier             | linenumber | quantity | extendedprice |\n",
       "|-------|----------------------|------------|----------|---------------|\n",
       "| 1     | \"Supplier#000000078\" | 1          | 17       | 19435.08      |\n",
       "⋮\n",
       "| 23325 | \"Supplier#000000051\" | 6          | 30       | 36939.90      |\n",
       "| 23326 | \"Supplier#000000044\" | 7          | 35       | 49893.20      |\n",
       "\n",
       "| Row   | discount | tax  | returnflag | linestatus | shipdate   | commitdate |\n",
       "|-------|----------|------|------------|------------|------------|------------|\n",
       "| 1     | 0.04     | 0.02 | \"N\"        | \"O\"        | 1996-03-13 | 1996-02-12 |\n",
       "⋮\n",
       "| 23325 | 0.07     | 0.05 | \"N\"        | \"O\"        | 1997-08-14 | 1997-09-13 |\n",
       "| 23326 | 0.09     | 0.01 | \"N\"        | \"O\"        | 1997-09-08 | 1997-08-27 |\n",
       "\n",
       "| Row   | receiptdate | shipinstruct        | shipmode |\n",
       "|-------|-------------|---------------------|----------|\n",
       "| 1     | 1996-03-22  | \"DELIVER IN PERSON\" | \"TRUCK\"  |\n",
       "⋮\n",
       "| 23325 | 1997-09-08  | \"NONE\"              | \"TRUCK\"  |\n",
       "| 23326 | 1997-09-15  | \"NONE\"              | \"MAIL\"   |\n",
       "\n",
       "| Row   | comment                                       |\n",
       "|-------|-----------------------------------------------|\n",
       "| 1     | \"egular courts above the\"                     |\n",
       "⋮\n",
       "| 23325 | \"ously bold packages. foxes will have to wak\" |\n",
       "| 23326 | \"cuses use finally unusual platel\"            | |\n",
       "| 4   | 11963x16 DataFrames.DataFrame\n",
       "| Row   | order                | part                                    |\n",
       "|-------|----------------------|-----------------------------------------|\n",
       "| 1     | \"Customer#000000988\" | \"green blush tomato burlywood seashell\" |\n",
       "⋮\n",
       "| 11962 | \"Customer#000001036\" | \"peach antique deep peru saddle\"        |\n",
       "| 11963 | \"Customer#000000871\" | \"burlywood orchid dark drab dodger\"     |\n",
       "\n",
       "| Row   | supplier             | linenumber | quantity | extendedprice |\n",
       "|-------|----------------------|------------|----------|---------------|\n",
       "| 1     | \"Supplier#000000016\" | 1          | 45       | 42076.35      |\n",
       "⋮\n",
       "| 11962 | \"Supplier#000000016\" | 3          | 29       | 34489.12      |\n",
       "| 11963 | \"Supplier#000000007\" | 1          | 39       | 44703.36      |\n",
       "\n",
       "| Row   | discount | tax  | returnflag | linestatus | shipdate   | commitdate |\n",
       "|-------|----------|------|------------|------------|------------|------------|\n",
       "| 1     | 0.06     | 0.0  | \"R\"        | \"F\"        | 1994-02-02 | 1994-01-04 |\n",
       "⋮\n",
       "| 11962 | 0.06     | 0.0  | \"R\"        | \"F\"        | 1993-11-08 | 1993-09-29 |\n",
       "| 11963 | 0.07     | 0.04 | \"R\"        | \"F\"        | 1992-11-24 | 1992-10-21 |\n",
       "\n",
       "| Row   | receiptdate | shipinstruct       | shipmode |\n",
       "|-------|-------------|--------------------|----------|\n",
       "| 1     | 1994-02-23  | \"NONE\"             | \"AIR\"    |\n",
       "⋮\n",
       "| 11962 | 1993-11-16  | \"TAKE BACK RETURN\" | \"MAIL\"   |\n",
       "| 11963 | 1992-12-12  | \"TAKE BACK RETURN\" | \"MAIL\"   |\n",
       "\n",
       "| Row   | comment                                |\n",
       "|-------|----------------------------------------|\n",
       "| 1     | \"ongside of the furiously brave acco\"  |\n",
       "⋮\n",
       "| 11962 | \"ackages may serve above the furiousl\" |\n",
       "| 11963 | \"arefully ironic as\"                   |                                     |"
      ]
     },
     "execution_count": 7,
     "metadata": {},
     "output_type": "execute_result"
    }
   ],
   "source": [
    "@query(\n",
    "    lineitem\n",
    "    :filter(shipdate <= date(\"1998-12-01\") - DELTA*days)\n",
    "    :group(returnflag, linestatus),\n",
    "    DELTA=90)"
   ]
  },
  {
   "cell_type": "markdown",
   "metadata": {},
   "source": [
    "For each distinct combination of `returnflag` and `linestatus` values, we see a collection of corresponding lineitem rows.  We can now use aggregate functions to summarize information about matching lineitems.\n",
    "\n",
    "For example, to find the total number of matching lineitems, we can use `count` aggregate."
   ]
  },
  {
   "cell_type": "code",
   "execution_count": 8,
   "metadata": {
    "collapsed": false
   },
   "outputs": [
    {
     "data": {
      "text/html": [
       "<table class=\"data-frame\"><tr><th></th><th>returnflag</th><th>linestatus</th><th></th></tr><tr><th>1</th><td>A</td><td>F</td><td>11958</td></tr><tr><th>2</th><td>N</td><td>F</td><td>288</td></tr><tr><th>3</th><td>N</td><td>O</td><td>23326</td></tr><tr><th>4</th><td>R</td><td>F</td><td>11963</td></tr></table>"
      ],
      "text/plain": [
       "4x3 DataFrames.DataFrame\n",
       "| Row | returnflag | linestatus |       |\n",
       "|-----|------------|------------|-------|\n",
       "| 1   | \"A\"        | \"F\"        | 11958 |\n",
       "| 2   | \"N\"        | \"F\"        | 288   |\n",
       "| 3   | \"N\"        | \"O\"        | 23326 |\n",
       "| 4   | \"R\"        | \"F\"        | 11963 |"
      ]
     },
     "execution_count": 8,
     "metadata": {},
     "output_type": "execute_result"
    }
   ],
   "source": [
    "@query(\n",
    "    lineitem\n",
    "    :filter(shipdate <= date(\"1998-12-01\") - DELTA*days)\n",
    "    :group(returnflag, linestatus)\n",
    "    :select(returnflag, linestatus, count(lineitem)),\n",
    "    DELTA=90)"
   ]
  },
  {
   "cell_type": "markdown",
   "metadata": {},
   "source": [
    "The query output now has the shape of the report.  We only need to calculate the respective fields."
   ]
  },
  {
   "cell_type": "code",
   "execution_count": 9,
   "metadata": {
    "collapsed": false
   },
   "outputs": [
    {
     "data": {
      "text/html": [
       "<table class=\"data-frame\"><tr><th></th><th>returnflag</th><th>linestatus</th><th>sum_qty</th><th>sum_base_price</th><th>sum_disc_price</th><th>sum_charge</th><th>avg_qty</th><th>avg_price</th><th>avg_disc</th><th>count_order</th></tr><tr><th>1</th><td>A</td><td>F</td><td>303771</td><td>401515429.00</td><td>381465877.43</td><td>396851569.64</td><td>25.40316106372303</td><td>33577.14</td><td>0.05011958521491882</td><td>11958</td></tr><tr><th>2</th><td>N</td><td>F</td><td>7354</td><td>9721375.74</td><td>9247800.68</td><td>9616674.43</td><td>25.53472222222222</td><td>33754.78</td><td>0.04809027777777776</td><td>288</td></tr><tr><th>3</th><td>N</td><td>O</td><td>593340</td><td>787065026.86</td><td>748034019.78</td><td>777970207.05</td><td>25.436851581925747</td><td>33741.96</td><td>0.04988510674783497</td><td>23326</td></tr><tr><th>4</th><td>R</td><td>F</td><td>306623</td><td>406030555.01</td><td>385792652.67</td><td>401431970.22</td><td>25.630945415029675</td><td>33940.53</td><td>0.04973083674663541</td><td>11963</td></tr></table>"
      ],
      "text/plain": [
       "4x10 DataFrames.DataFrame\n",
       "| Row | returnflag | linestatus | sum_qty | sum_base_price | sum_disc_price |\n",
       "|-----|------------|------------|---------|----------------|----------------|\n",
       "| 1   | \"A\"        | \"F\"        | 303771  | 401515429.00   | 381465877.43   |\n",
       "| 2   | \"N\"        | \"F\"        | 7354    | 9721375.74     | 9247800.68     |\n",
       "| 3   | \"N\"        | \"O\"        | 593340  | 787065026.86   | 748034019.78   |\n",
       "| 4   | \"R\"        | \"F\"        | 306623  | 406030555.01   | 385792652.67   |\n",
       "\n",
       "| Row | sum_charge   | avg_qty | avg_price | avg_disc  | count_order |\n",
       "|-----|--------------|---------|-----------|-----------|-------------|\n",
       "| 1   | 396851569.64 | 25.4032 | 33577.14  | 0.0501196 | 11958       |\n",
       "| 2   | 9616674.43   | 25.5347 | 33754.78  | 0.0480903 | 288         |\n",
       "| 3   | 777970207.05 | 25.4369 | 33741.96  | 0.0498851 | 23326       |\n",
       "| 4   | 401431970.22 | 25.6309 | 33940.53  | 0.0497308 | 11963       |"
      ]
     },
     "execution_count": 9,
     "metadata": {},
     "output_type": "execute_result"
    }
   ],
   "source": [
    "@query(\n",
    "    lineitem\n",
    "    :filter(shipdate <= date(\"1998-12-01\") - DELTA*days)\n",
    "    :group(returnflag, linestatus)\n",
    "    :select(\n",
    "        returnflag,\n",
    "        linestatus,\n",
    "        sum_qty => sum(lineitem.quantity),\n",
    "        sum_base_price => sum(lineitem.extendedprice),\n",
    "        sum_disc_price => sum(lineitem.(extendedprice*(1-discount))),\n",
    "        sum_charge => sum(lineitem.(extendedprice*(1-discount)*(1+tax))),\n",
    "        avg_qty => mean(lineitem.quantity),\n",
    "        avg_price => mean(lineitem.extendedprice),\n",
    "        avg_disc => mean(lineitem.discount),\n",
    "        count_order => count(lineitem)),\n",
    "    DELTA=90)"
   ]
  },
  {
   "cell_type": "markdown",
   "metadata": {},
   "source": [
    "## Minimum Cost Supplier Query (Q2)\n",
    "This query finds which supplier should be selected to place an order for a given part in a given region.\n",
    "\n",
    "### Business Question\n",
    "The Minimum Cost Supplier Query finds, in a given region, for each part of a certain type and size, the supplier who\n",
    "can supply it at minimum cost. If several suppliers in that region offer the desired part type and size at the same\n",
    "(minimum) cost, the query lists the parts from suppliers with the 100 highest account balances. For each supplier,\n",
    "the query lists the supplier's account balance, name and nation; the part's number and manufacturer; the supplier's\n",
    "address, phone number and comment information.\n",
    "\n",
    "\n",
    "### Query Definition\n",
    "```\n",
    "select\n",
    "    s_acctbal,\n",
    "    s_name,\n",
    "    n_name,\n",
    "    p_partkey,\n",
    "    p_mfgr,\n",
    "    s_address,\n",
    "    s_phone,\n",
    "    s_comment\n",
    "from\n",
    "    part,\n",
    "    supplier,\n",
    "    partsupp,\n",
    "    nation,\n",
    "    region\n",
    "where\n",
    "    p_partkey = ps_partkey\n",
    "    and s_suppkey = ps_suppkey\n",
    "    and p_size = [SIZE]\n",
    "    and p_type like '%[TYPE]'\n",
    "    and s_nationkey = n_nationkey\n",
    "    and n_regionkey = r_regionkey\n",
    "    and r_name = '[REGION]'\n",
    "    and ps_supplycost = (\n",
    "        select\n",
    "            min(ps_supplycost)\n",
    "        from\n",
    "            partsupp, supplier,\n",
    "            nation, region\n",
    "        where\n",
    "            p_partkey = ps_partkey\n",
    "            and s_suppkey = ps_suppkey\n",
    "            and s_nationkey = n_nationkey\n",
    "            and n_regionkey = r_regionkey\n",
    "            and r_name = '[REGION]')\n",
    "order by\n",
    "    s_acctbal desc,\n",
    "    n_name,\n",
    "    s_name,\n",
    "    p_partkey;\n",
    "```\n",
    "\n",
    "### Substitution Parameters\n",
    "1. SIZE = 8;\n",
    "2. TYPE = BRASS;\n",
    "3. REGION = EUROPE."
   ]
  },
  {
   "cell_type": "markdown",
   "metadata": {},
   "source": [
    "This report extracts data from tables `part`, `supplier` as well as table `partsupp` that relates each supplier to their inventory of parts.  We start with getting a list of parts of the given size and type in the inventories of all suppliers."
   ]
  },
  {
   "cell_type": "code",
   "execution_count": 10,
   "metadata": {
    "collapsed": false
   },
   "outputs": [
    {
     "data": {
      "text/html": [
       "<table class=\"data-frame\"><tr><th></th><th>part</th><th>supplier</th><th>availqty</th><th>supplycost</th><th>comment</th></tr><tr><th>1</th><td>drab aquamarine red papaya pale</td><td>Supplier#000000009</td><td>7731</td><td>65.54</td><td>ronic accounts haggle blithely across the blithely special platelets. furiously final ideas haggle carefully after the fluffily unusual dep</td></tr><tr><th>2</th><td>drab aquamarine red papaya pale</td><td>Supplier#000000032</td><td>8847</td><td>935.64</td><td>ular, regular requests affix ironically enticing ideas. fur</td></tr><tr><th>3</th><td>drab aquamarine red papaya pale</td><td>Supplier#000000055</td><td>6329</td><td>148.79</td><td>enticingly final ideas sleep fluffily. blithely final ideas boost fluffily ironic asymptote</td></tr><tr><th>4</th><td>drab aquamarine red papaya pale</td><td>Supplier#000000078</td><td>8054</td><td>425.78</td><td>the express accounts. even, ironic pinto beans wake furious</td></tr><tr><th>5</th><td>blue gainsboro sky burnished puff</td><td>Supplier#000000014</td><td>8029</td><td>765.35</td><td>ous packages sleep slyly across the quickly ironic accounts. regular packages thrash above the furiously final theodolites. furi</td></tr><tr><th>6</th><td>blue gainsboro sky burnished puff</td><td>Supplier#000000040</td><td>1481</td><td>319.99</td><td>coys against the even instructions cajole furiously bold, daring courts. slyly ironic deposits ought to wake blithely regular ideas. slyly regular ideas according to the slyly express ac</td></tr><tr><th>7</th><td>blue gainsboro sky burnished puff</td><td>Supplier#000000066</td><td>718</td><td>634.58</td><td>furiously slyly ironic packages. pending requests use ruthlessly across the blithely bold deposits. furiously fin</td></tr><tr><th>8</th><td>blue gainsboro sky burnished puff</td><td>Supplier#000000012</td><td>2818</td><td>237.16</td><td> the carefully special frays. final excuses haggle slyly. furiously regular deposits across t</td></tr><tr><th>9</th><td>plum indian cornflower frosted purple</td><td>Supplier#000000073</td><td>1076</td><td>844.74</td><td>y ironic instructions. even, final requests are. bold instructions use silent, regular accounts-- slyly final excuses doubt fluffily after the quickly p</td></tr><tr><th>10</th><td>plum indian cornflower frosted purple</td><td>Supplier#000000022</td><td>9272</td><td>904.83</td><td>ly regular packages. ruthless instructions haggle carefully final, special courts. silently ruthless courts hinder slyly regular packages; regular, regular pac</td></tr><tr><th>&vellip;</th><td>&vellip;</td><td>&vellip;</td><td>&vellip;</td><td>&vellip;</td><td>&vellip;</td></tr></table>"
      ],
      "text/plain": [
       "32x5 DataFrames.DataFrame\n",
       "| Row | part                                | supplier             | availqty |\n",
       "|-----|-------------------------------------|----------------------|----------|\n",
       "| 1   | \"drab aquamarine red papaya pale\"   | \"Supplier#000000009\" | 7731     |\n",
       "⋮\n",
       "| 31  | \"plum beige misty cream cornflower\" | \"Supplier#000000013\" | 2973     |\n",
       "| 32  | \"plum beige misty cream cornflower\" | \"Supplier#000000050\" | 5417     |\n",
       "\n",
       "| Row | supplycost |\n",
       "|-----|------------|\n",
       "| 1   | 65.54      |\n",
       "⋮\n",
       "| 31  | 727.39     |\n",
       "| 32  | 620.51     |\n",
       "\n",
       "| Row | comment                                                                                                                                                 |\n",
       "|-----|---------------------------------------------------------------------------------------------------------------------------------------------------------|\n",
       "| 1   | \"ronic accounts haggle blithely across the blithely special platelets. furiously final ideas haggle carefully after the fluffily unusual dep\"           |\n",
       "⋮\n",
       "| 31  | \"at slyly final packages. enticingly pending excuses across the sometimes final dependencies sleep evenly above the express dep\"                        |\n",
       "| 32  | \"requests against the blithely unusual deposits wake furiously furiously special platelets. ironically unusual accounts detect blithely. finally unusu\" |"
      ]
     },
     "execution_count": 10,
     "metadata": {},
     "output_type": "execute_result"
    }
   ],
   "source": [
    "@query(\n",
    "    partsupp\n",
    "    :filter(\n",
    "        (part.size == SIZE) &\n",
    "        contains(part.type_, TYPE)),\n",
    "    SIZE=8, TYPE=\"BRASS\")"
   ]
  },
  {
   "cell_type": "markdown",
   "metadata": {},
   "source": [
    "Among all suppliers, we are only interested in those who are situated in the given REGION."
   ]
  },
  {
   "cell_type": "code",
   "execution_count": 11,
   "metadata": {
    "collapsed": false
   },
   "outputs": [
    {
     "data": {
      "text/html": [
       "<table class=\"data-frame\"><tr><th></th><th>part</th><th>supplier</th><th>availqty</th><th>supplycost</th><th>comment</th></tr><tr><th>1</th><td>drab aquamarine red papaya pale</td><td>Supplier#000000032</td><td>8847</td><td>935.64</td><td>ular, regular requests affix ironically enticing ideas. fur</td></tr><tr><th>2</th><td>blue gainsboro sky burnished puff</td><td>Supplier#000000040</td><td>1481</td><td>319.99</td><td>coys against the even instructions cajole furiously bold, daring courts. slyly ironic deposits ought to wake blithely regular ideas. slyly regular ideas according to the slyly express ac</td></tr><tr><th>3</th><td>blue gainsboro sky burnished puff</td><td>Supplier#000000066</td><td>718</td><td>634.58</td><td>furiously slyly ironic packages. pending requests use ruthlessly across the blithely bold deposits. furiously fin</td></tr><tr><th>4</th><td>tan ghost cyan salmon goldenrod</td><td>Supplier#000000066</td><td>322</td><td>104.62</td><td>g the quickly express dolphins. slyly even instructions nag furiously. carefully final ideas are idly above the ironic asymptotes. unusual requests haggle about t</td></tr><tr><th>5</th><td>tan ghost cyan salmon goldenrod</td><td>Supplier#000000016</td><td>6830</td><td>298.77</td><td>ss orbits. furiously regular deposits haggle blithely carefully final pinto beans. ironic, silent accounts thrash quickly about the accounts. iron</td></tr><tr><th>6</th><td>frosted blue ghost purple coral</td><td>Supplier#000000025</td><td>290</td><td>774.80</td><td>r pinto beans-- quickly final instructions integrate alongside of the sly, silent th</td></tr><tr><th>7</th><td>burlywood seashell slate white cream</td><td>Supplier#000000040</td><td>9737</td><td>799.94</td><td>ns cajole idly. deposits are quickly blithely even deposits. quickly regular packages boost carefully. blithely ironic asympto</td></tr><tr><th>8</th><td>burlywood seashell slate white cream</td><td>Supplier#000000077</td><td>9194</td><td>240.78</td><td>l requests cajole carefully. blithely express gifts</td></tr></table>"
      ],
      "text/plain": [
       "8x5 DataFrames.DataFrame\n",
       "| Row | part                                   | supplier             |\n",
       "|-----|----------------------------------------|----------------------|\n",
       "| 1   | \"drab aquamarine red papaya pale\"      | \"Supplier#000000032\" |\n",
       "⋮\n",
       "| 7   | \"burlywood seashell slate white cream\" | \"Supplier#000000040\" |\n",
       "| 8   | \"burlywood seashell slate white cream\" | \"Supplier#000000077\" |\n",
       "\n",
       "| Row | availqty | supplycost |\n",
       "|-----|----------|------------|\n",
       "| 1   | 8847     | 935.64     |\n",
       "⋮\n",
       "| 7   | 9737     | 799.94     |\n",
       "| 8   | 9194     | 240.78     |\n",
       "\n",
       "| Row | comment                                                                                                                          |\n",
       "|-----|----------------------------------------------------------------------------------------------------------------------------------|\n",
       "| 1   | \"ular, regular requests affix ironically enticing ideas. fur\"                                                                    |\n",
       "⋮\n",
       "| 7   | \"ns cajole idly. deposits are quickly blithely even deposits. quickly regular packages boost carefully. blithely ironic asympto\" |\n",
       "| 8   | \"l requests cajole carefully. blithely express gifts\"                                                                            |"
      ]
     },
     "execution_count": 11,
     "metadata": {},
     "output_type": "execute_result"
    }
   ],
   "source": [
    "@query(\n",
    "    partsupp\n",
    "    :filter(\n",
    "        (part.size == SIZE) &\n",
    "        contains(part.type_, TYPE) &\n",
    "        (supplier.nation.region.name == REGION)),\n",
    "    SIZE=8, TYPE=\"BRASS\", REGION=\"EUROPE\")"
   ]
  },
  {
   "cell_type": "markdown",
   "metadata": {},
   "source": [
    "Some parts are offered by more than one supplier.  We can use combinator `and_around(part)` to relate each row of the output to all the others that provide the same part."
   ]
  },
  {
   "cell_type": "code",
   "execution_count": 12,
   "metadata": {
    "collapsed": false
   },
   "outputs": [
    {
     "data": {
      "text/html": [
       "<table class=\"data-frame\"><tr><th></th><th>part</th><th>supplier</th><th>supplycost</th><th>othersupplycost</th></tr><tr><th>1</th><td>drab aquamarine red papaya pale</td><td>Supplier#000000032</td><td>935.64</td><td>[935.64]</td></tr><tr><th>2</th><td>blue gainsboro sky burnished puff</td><td>Supplier#000000040</td><td>319.99</td><td>[319.99,634.58]</td></tr><tr><th>3</th><td>blue gainsboro sky burnished puff</td><td>Supplier#000000066</td><td>634.58</td><td>[319.99,634.58]</td></tr><tr><th>4</th><td>tan ghost cyan salmon goldenrod</td><td>Supplier#000000066</td><td>104.62</td><td>[104.62,298.77]</td></tr><tr><th>5</th><td>tan ghost cyan salmon goldenrod</td><td>Supplier#000000016</td><td>298.77</td><td>[104.62,298.77]</td></tr><tr><th>6</th><td>frosted blue ghost purple coral</td><td>Supplier#000000025</td><td>774.80</td><td>[774.80]</td></tr><tr><th>7</th><td>burlywood seashell slate white cream</td><td>Supplier#000000040</td><td>799.94</td><td>[799.94,240.78]</td></tr><tr><th>8</th><td>burlywood seashell slate white cream</td><td>Supplier#000000077</td><td>240.78</td><td>[799.94,240.78]</td></tr></table>"
      ],
      "text/plain": [
       "8x4 DataFrames.DataFrame\n",
       "| Row | part                                   | supplier             |\n",
       "|-----|----------------------------------------|----------------------|\n",
       "| 1   | \"drab aquamarine red papaya pale\"      | \"Supplier#000000032\" |\n",
       "⋮\n",
       "| 7   | \"burlywood seashell slate white cream\" | \"Supplier#000000040\" |\n",
       "| 8   | \"burlywood seashell slate white cream\" | \"Supplier#000000077\" |\n",
       "\n",
       "| Row | supplycost | othersupplycost |\n",
       "|-----|------------|-----------------|\n",
       "| 1   | 935.64     | [935.64]        |\n",
       "⋮\n",
       "| 7   | 799.94     | [799.94,240.78] |\n",
       "| 8   | 240.78     | [799.94,240.78] |"
      ]
     },
     "execution_count": 12,
     "metadata": {},
     "output_type": "execute_result"
    }
   ],
   "source": [
    "@query(\n",
    "    partsupp\n",
    "    :filter(\n",
    "        (part.size == SIZE) &\n",
    "        contains(part.type_, TYPE) &\n",
    "        (supplier.nation.region.name == REGION))\n",
    "    :select(part, supplier, supplycost, othersupplycost => and_around(part).supplycost),\n",
    "    SIZE=8, TYPE=\"BRASS\", REGION=\"EUROPE\")"
   ]
  },
  {
   "cell_type": "markdown",
   "metadata": {},
   "source": [
    "Similarly, we can select rows that provide their part at the minimal cost."
   ]
  },
  {
   "cell_type": "code",
   "execution_count": 13,
   "metadata": {
    "collapsed": false
   },
   "outputs": [
    {
     "data": {
      "text/html": [
       "<table class=\"data-frame\"><tr><th></th><th>part</th><th>supplier</th><th>availqty</th><th>supplycost</th><th>comment</th></tr><tr><th>1</th><td>drab aquamarine red papaya pale</td><td>Supplier#000000032</td><td>8847</td><td>935.64</td><td>ular, regular requests affix ironically enticing ideas. fur</td></tr><tr><th>2</th><td>blue gainsboro sky burnished puff</td><td>Supplier#000000040</td><td>1481</td><td>319.99</td><td>coys against the even instructions cajole furiously bold, daring courts. slyly ironic deposits ought to wake blithely regular ideas. slyly regular ideas according to the slyly express ac</td></tr><tr><th>3</th><td>tan ghost cyan salmon goldenrod</td><td>Supplier#000000066</td><td>322</td><td>104.62</td><td>g the quickly express dolphins. slyly even instructions nag furiously. carefully final ideas are idly above the ironic asymptotes. unusual requests haggle about t</td></tr><tr><th>4</th><td>frosted blue ghost purple coral</td><td>Supplier#000000025</td><td>290</td><td>774.80</td><td>r pinto beans-- quickly final instructions integrate alongside of the sly, silent th</td></tr><tr><th>5</th><td>burlywood seashell slate white cream</td><td>Supplier#000000077</td><td>9194</td><td>240.78</td><td>l requests cajole carefully. blithely express gifts</td></tr></table>"
      ],
      "text/plain": [
       "5x5 DataFrames.DataFrame\n",
       "| Row | part                                   | supplier             |\n",
       "|-----|----------------------------------------|----------------------|\n",
       "| 1   | \"drab aquamarine red papaya pale\"      | \"Supplier#000000032\" |\n",
       "| 2   | \"blue gainsboro sky burnished puff\"    | \"Supplier#000000040\" |\n",
       "| 3   | \"tan ghost cyan salmon goldenrod\"      | \"Supplier#000000066\" |\n",
       "| 4   | \"frosted blue ghost purple coral\"      | \"Supplier#000000025\" |\n",
       "| 5   | \"burlywood seashell slate white cream\" | \"Supplier#000000077\" |\n",
       "\n",
       "| Row | availqty | supplycost |\n",
       "|-----|----------|------------|\n",
       "| 1   | 8847     | 935.64     |\n",
       "| 2   | 1481     | 319.99     |\n",
       "| 3   | 322      | 104.62     |\n",
       "| 4   | 290      | 774.80     |\n",
       "| 5   | 9194     | 240.78     |\n",
       "\n",
       "| Row | comment                                                                                                                                                                                      |\n",
       "|-----|----------------------------------------------------------------------------------------------------------------------------------------------------------------------------------------------|\n",
       "| 1   | \"ular, regular requests affix ironically enticing ideas. fur\"                                                                                                                                |\n",
       "| 2   | \"coys against the even instructions cajole furiously bold, daring courts. slyly ironic deposits ought to wake blithely regular ideas. slyly regular ideas according to the slyly express ac\" |\n",
       "| 3   | \"g the quickly express dolphins. slyly even instructions nag furiously. carefully final ideas are idly above the ironic asymptotes. unusual requests haggle about t\"                         |\n",
       "| 4   | \"r pinto beans-- quickly final instructions integrate alongside of the sly, silent th\"                                                                                                       |\n",
       "| 5   | \"l requests cajole carefully. blithely express gifts\"                                                                                                                                        |"
      ]
     },
     "execution_count": 13,
     "metadata": {},
     "output_type": "execute_result"
    }
   ],
   "source": [
    "@query(\n",
    "    partsupp\n",
    "    :filter(\n",
    "        (part.size == SIZE) &\n",
    "        contains(part.type_, TYPE) &\n",
    "        (supplier.nation.region.name == REGION))\n",
    "    :filter(supplycost == min(and_around(part).supplycost)),\n",
    "    SIZE=8, TYPE=\"BRASS\", REGION=\"EUROPE\")"
   ]
  },
  {
   "cell_type": "markdown",
   "metadata": {},
   "source": [
    "We have the rows that we need in the requested report.  We only need to sort them and show the requested columns."
   ]
  },
  {
   "cell_type": "code",
   "execution_count": 14,
   "metadata": {
    "collapsed": false
   },
   "outputs": [
    {
     "data": {
      "text/html": [
       "<table class=\"data-frame\"><tr><th></th><th>acctbal</th><th>name</th><th>nation</th><th>id</th><th>mfgr</th><th>address</th><th>phone</th><th>comment</th></tr><tr><th>1</th><td>9198.31</td><td>Supplier#000000025</td><td>RUSSIA</td><td>1156</td><td>Manufacturer#5</td><td>RCQKONXMFnrodzz6w7fObFVV6CUm2q</td><td>32-431-945-3541</td><td>ely regular deposits. carefully regular sauternes engage furiously above the regular accounts. idly </td></tr><tr><th>2</th><td>4186.95</td><td>Supplier#000000077</td><td>GERMANY</td><td>1362</td><td>Manufacturer#1</td><td>wVtcr0uH3CyrSiWMLsqnB09Syo,UuZxPMeBghlY</td><td>17-281-345-4863</td><td>the slyly final asymptotes. blithely pending theodoli</td></tr><tr><th>3</th><td>3556.47</td><td>Supplier#000000032</td><td>UNITED KINGDOM</td><td>248</td><td>Manufacturer#1</td><td>yvoD3TtZSx1skQNCK8agk5bZlZLug</td><td>33-484-637-7873</td><td>usly even depths. quickly ironic theodolites s</td></tr><tr><th>4</th><td>2455.98</td><td>Supplier#000000066</td><td>UNITED KINGDOM</td><td>805</td><td>Manufacturer#5</td><td>qYdruFJQJYYiKvnNVmYfCVydVB8bcW,AW,U6SOV3</td><td>33-300-836-9529</td><td>ar requests. express orbits de</td></tr><tr><th>5</th><td>-290.06</td><td>Supplier#000000040</td><td>RUSSIA</td><td>493</td><td>Manufacturer#4</td><td>zyIeWzbbpkTV37vm1nmSGBxSgd2Kp</td><td>32-231-247-6991</td><td> final patterns. accounts haggle idly pas</td></tr></table>"
      ],
      "text/plain": [
       "5x8 DataFrames.DataFrame\n",
       "| Row | acctbal | name                 | nation           | id   |\n",
       "|-----|---------|----------------------|------------------|------|\n",
       "| 1   | 9198.31 | \"Supplier#000000025\" | \"RUSSIA\"         | 1156 |\n",
       "| 2   | 4186.95 | \"Supplier#000000077\" | \"GERMANY\"        | 1362 |\n",
       "| 3   | 3556.47 | \"Supplier#000000032\" | \"UNITED KINGDOM\" | 248  |\n",
       "| 4   | 2455.98 | \"Supplier#000000066\" | \"UNITED KINGDOM\" | 805  |\n",
       "| 5   | -290.06 | \"Supplier#000000040\" | \"RUSSIA\"         | 493  |\n",
       "\n",
       "| Row | mfgr             | address                                    |\n",
       "|-----|------------------|--------------------------------------------|\n",
       "| 1   | \"Manufacturer#5\" | \"RCQKONXMFnrodzz6w7fObFVV6CUm2q\"           |\n",
       "| 2   | \"Manufacturer#1\" | \"wVtcr0uH3CyrSiWMLsqnB09Syo,UuZxPMeBghlY\"  |\n",
       "| 3   | \"Manufacturer#1\" | \"yvoD3TtZSx1skQNCK8agk5bZlZLug\"            |\n",
       "| 4   | \"Manufacturer#5\" | \"qYdruFJQJYYiKvnNVmYfCVydVB8bcW,AW,U6SOV3\" |\n",
       "| 5   | \"Manufacturer#4\" | \"zyIeWzbbpkTV37vm1nmSGBxSgd2Kp\"            |\n",
       "\n",
       "| Row | phone             |\n",
       "|-----|-------------------|\n",
       "| 1   | \"32-431-945-3541\" |\n",
       "| 2   | \"17-281-345-4863\" |\n",
       "| 3   | \"33-484-637-7873\" |\n",
       "| 4   | \"33-300-836-9529\" |\n",
       "| 5   | \"32-231-247-6991\" |\n",
       "\n",
       "| Row | comment                                                                                                |\n",
       "|-----|--------------------------------------------------------------------------------------------------------|\n",
       "| 1   | \"ely regular deposits. carefully regular sauternes engage furiously above the regular accounts. idly \" |\n",
       "| 2   | \"the slyly final asymptotes. blithely pending theodoli\"                                                |\n",
       "| 3   | \"usly even depths. quickly ironic theodolites s\"                                                       |\n",
       "| 4   | \"ar requests. express orbits de\"                                                                       |\n",
       "| 5   | \" final patterns. accounts haggle idly pas\"                                                            |"
      ]
     },
     "execution_count": 14,
     "metadata": {},
     "output_type": "execute_result"
    }
   ],
   "source": [
    "@query(\n",
    "    partsupp\n",
    "    :filter(\n",
    "        (part.size == SIZE) &\n",
    "        contains(part.type_, TYPE) &\n",
    "        (supplier.nation.region.name == REGION))\n",
    "    :filter(supplycost == min(and_around(part).supplycost))\n",
    "    :sort(\n",
    "        supplier.acctbal:desc,\n",
    "        supplier.nation.name,\n",
    "        part.name,\n",
    "        part.id)\n",
    "    :select(\n",
    "        supplier.acctbal,\n",
    "        supplier.name,\n",
    "        supplier.nation,\n",
    "        part.id,\n",
    "        part.mfgr,\n",
    "        supplier.address,\n",
    "        supplier.phone,\n",
    "        supplier.comment),\n",
    "    SIZE=8, TYPE=\"BRASS\", REGION=\"EUROPE\")"
   ]
  }
 ],
 "metadata": {
  "kernelspec": {
   "display_name": "Julia 0.5.0-dev",
   "language": "julia",
   "name": "julia-0.5"
  },
  "language_info": {
   "file_extension": ".jl",
   "mimetype": "application/julia",
   "name": "julia",
   "version": "0.5.0"
  }
 },
 "nbformat": 4,
 "nbformat_minor": 0
}
